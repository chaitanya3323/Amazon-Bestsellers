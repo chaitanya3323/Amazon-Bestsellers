{
 "cells": [
  {
   "cell_type": "code",
   "execution_count": 1,
   "metadata": {},
   "outputs": [],
   "source": [
    "import pandas as pd\n",
    "import matplotlib.pyplot as plt\n",
    "import seaborn as sns\n",
    "import numpy as np\n",
    "%matplotlib inline\n",
    "sns.set_style('whitegrid')"
   ]
  },
  {
   "cell_type": "code",
   "execution_count": 2,
   "metadata": {},
   "outputs": [
    {
     "data": {
      "text/html": [
       "<div>\n",
       "<style scoped>\n",
       "    .dataframe tbody tr th:only-of-type {\n",
       "        vertical-align: middle;\n",
       "    }\n",
       "\n",
       "    .dataframe tbody tr th {\n",
       "        vertical-align: top;\n",
       "    }\n",
       "\n",
       "    .dataframe thead th {\n",
       "        text-align: right;\n",
       "    }\n",
       "</style>\n",
       "<table border=\"1\" class=\"dataframe\">\n",
       "  <thead>\n",
       "    <tr style=\"text-align: right;\">\n",
       "      <th></th>\n",
       "      <th>Name</th>\n",
       "      <th>Author</th>\n",
       "      <th>User Rating</th>\n",
       "      <th>Reviews</th>\n",
       "      <th>Price</th>\n",
       "      <th>Year</th>\n",
       "      <th>Genre</th>\n",
       "    </tr>\n",
       "  </thead>\n",
       "  <tbody>\n",
       "    <tr>\n",
       "      <th>0</th>\n",
       "      <td>10-Day Green Smoothie Cleanse</td>\n",
       "      <td>JJ Smith</td>\n",
       "      <td>4.7</td>\n",
       "      <td>17350</td>\n",
       "      <td>8</td>\n",
       "      <td>2016</td>\n",
       "      <td>Non Fiction</td>\n",
       "    </tr>\n",
       "    <tr>\n",
       "      <th>1</th>\n",
       "      <td>11/22/63: A Novel</td>\n",
       "      <td>Stephen King</td>\n",
       "      <td>4.6</td>\n",
       "      <td>2052</td>\n",
       "      <td>22</td>\n",
       "      <td>2011</td>\n",
       "      <td>Fiction</td>\n",
       "    </tr>\n",
       "    <tr>\n",
       "      <th>2</th>\n",
       "      <td>12 Rules for Life: An Antidote to Chaos</td>\n",
       "      <td>Jordan B. Peterson</td>\n",
       "      <td>4.7</td>\n",
       "      <td>18979</td>\n",
       "      <td>15</td>\n",
       "      <td>2018</td>\n",
       "      <td>Non Fiction</td>\n",
       "    </tr>\n",
       "    <tr>\n",
       "      <th>3</th>\n",
       "      <td>1984 (Signet Classics)</td>\n",
       "      <td>George Orwell</td>\n",
       "      <td>4.7</td>\n",
       "      <td>21424</td>\n",
       "      <td>6</td>\n",
       "      <td>2017</td>\n",
       "      <td>Fiction</td>\n",
       "    </tr>\n",
       "    <tr>\n",
       "      <th>4</th>\n",
       "      <td>5,000 Awesome Facts (About Everything!) (Natio...</td>\n",
       "      <td>National Geographic Kids</td>\n",
       "      <td>4.8</td>\n",
       "      <td>7665</td>\n",
       "      <td>12</td>\n",
       "      <td>2019</td>\n",
       "      <td>Non Fiction</td>\n",
       "    </tr>\n",
       "    <tr>\n",
       "      <th>5</th>\n",
       "      <td>A Dance with Dragons (A Song of Ice and Fire)</td>\n",
       "      <td>George R. R. Martin</td>\n",
       "      <td>4.4</td>\n",
       "      <td>12643</td>\n",
       "      <td>11</td>\n",
       "      <td>2011</td>\n",
       "      <td>Fiction</td>\n",
       "    </tr>\n",
       "    <tr>\n",
       "      <th>6</th>\n",
       "      <td>A Game of Thrones / A Clash of Kings / A Storm...</td>\n",
       "      <td>George R. R. Martin</td>\n",
       "      <td>4.7</td>\n",
       "      <td>19735</td>\n",
       "      <td>30</td>\n",
       "      <td>2014</td>\n",
       "      <td>Fiction</td>\n",
       "    </tr>\n",
       "    <tr>\n",
       "      <th>7</th>\n",
       "      <td>A Gentleman in Moscow: A Novel</td>\n",
       "      <td>Amor Towles</td>\n",
       "      <td>4.7</td>\n",
       "      <td>19699</td>\n",
       "      <td>15</td>\n",
       "      <td>2017</td>\n",
       "      <td>Fiction</td>\n",
       "    </tr>\n",
       "    <tr>\n",
       "      <th>8</th>\n",
       "      <td>A Higher Loyalty: Truth, Lies, and Leadership</td>\n",
       "      <td>James Comey</td>\n",
       "      <td>4.7</td>\n",
       "      <td>5983</td>\n",
       "      <td>3</td>\n",
       "      <td>2018</td>\n",
       "      <td>Non Fiction</td>\n",
       "    </tr>\n",
       "    <tr>\n",
       "      <th>9</th>\n",
       "      <td>A Man Called Ove: A Novel</td>\n",
       "      <td>Fredrik Backman</td>\n",
       "      <td>4.6</td>\n",
       "      <td>23848</td>\n",
       "      <td>8</td>\n",
       "      <td>2016</td>\n",
       "      <td>Fiction</td>\n",
       "    </tr>\n",
       "    <tr>\n",
       "      <th>10</th>\n",
       "      <td>A Man Called Ove: A Novel</td>\n",
       "      <td>Fredrik Backman</td>\n",
       "      <td>4.6</td>\n",
       "      <td>23848</td>\n",
       "      <td>8</td>\n",
       "      <td>2017</td>\n",
       "      <td>Fiction</td>\n",
       "    </tr>\n",
       "    <tr>\n",
       "      <th>11</th>\n",
       "      <td>A Patriot's History of the United States: From...</td>\n",
       "      <td>Larry Schweikart</td>\n",
       "      <td>4.6</td>\n",
       "      <td>460</td>\n",
       "      <td>2</td>\n",
       "      <td>2010</td>\n",
       "      <td>Non Fiction</td>\n",
       "    </tr>\n",
       "    <tr>\n",
       "      <th>12</th>\n",
       "      <td>A Stolen Life: A Memoir</td>\n",
       "      <td>Jaycee Dugard</td>\n",
       "      <td>4.6</td>\n",
       "      <td>4149</td>\n",
       "      <td>32</td>\n",
       "      <td>2011</td>\n",
       "      <td>Non Fiction</td>\n",
       "    </tr>\n",
       "    <tr>\n",
       "      <th>13</th>\n",
       "      <td>A Wrinkle in Time (Time Quintet)</td>\n",
       "      <td>Madeleine L'Engle</td>\n",
       "      <td>4.5</td>\n",
       "      <td>5153</td>\n",
       "      <td>5</td>\n",
       "      <td>2018</td>\n",
       "      <td>Fiction</td>\n",
       "    </tr>\n",
       "    <tr>\n",
       "      <th>14</th>\n",
       "      <td>Act Like a Lady, Think Like a Man: What Men Re...</td>\n",
       "      <td>Steve Harvey</td>\n",
       "      <td>4.6</td>\n",
       "      <td>5013</td>\n",
       "      <td>17</td>\n",
       "      <td>2009</td>\n",
       "      <td>Non Fiction</td>\n",
       "    </tr>\n",
       "  </tbody>\n",
       "</table>\n",
       "</div>"
      ],
      "text/plain": [
       "                                                 Name  \\\n",
       "0                       10-Day Green Smoothie Cleanse   \n",
       "1                                   11/22/63: A Novel   \n",
       "2             12 Rules for Life: An Antidote to Chaos   \n",
       "3                              1984 (Signet Classics)   \n",
       "4   5,000 Awesome Facts (About Everything!) (Natio...   \n",
       "5       A Dance with Dragons (A Song of Ice and Fire)   \n",
       "6   A Game of Thrones / A Clash of Kings / A Storm...   \n",
       "7                      A Gentleman in Moscow: A Novel   \n",
       "8       A Higher Loyalty: Truth, Lies, and Leadership   \n",
       "9                           A Man Called Ove: A Novel   \n",
       "10                          A Man Called Ove: A Novel   \n",
       "11  A Patriot's History of the United States: From...   \n",
       "12                            A Stolen Life: A Memoir   \n",
       "13                   A Wrinkle in Time (Time Quintet)   \n",
       "14  Act Like a Lady, Think Like a Man: What Men Re...   \n",
       "\n",
       "                      Author  User Rating  Reviews  Price  Year        Genre  \n",
       "0                   JJ Smith          4.7    17350      8  2016  Non Fiction  \n",
       "1               Stephen King          4.6     2052     22  2011      Fiction  \n",
       "2         Jordan B. Peterson          4.7    18979     15  2018  Non Fiction  \n",
       "3              George Orwell          4.7    21424      6  2017      Fiction  \n",
       "4   National Geographic Kids          4.8     7665     12  2019  Non Fiction  \n",
       "5        George R. R. Martin          4.4    12643     11  2011      Fiction  \n",
       "6        George R. R. Martin          4.7    19735     30  2014      Fiction  \n",
       "7                Amor Towles          4.7    19699     15  2017      Fiction  \n",
       "8                James Comey          4.7     5983      3  2018  Non Fiction  \n",
       "9            Fredrik Backman          4.6    23848      8  2016      Fiction  \n",
       "10           Fredrik Backman          4.6    23848      8  2017      Fiction  \n",
       "11          Larry Schweikart          4.6      460      2  2010  Non Fiction  \n",
       "12             Jaycee Dugard          4.6     4149     32  2011  Non Fiction  \n",
       "13         Madeleine L'Engle          4.5     5153      5  2018      Fiction  \n",
       "14              Steve Harvey          4.6     5013     17  2009  Non Fiction  "
      ]
     },
     "execution_count": 2,
     "metadata": {},
     "output_type": "execute_result"
    }
   ],
   "source": [
    "df=pd.read_csv('bestsellers with categories.csv')\n",
    "df.head(15)"
   ]
  },
  {
   "cell_type": "code",
   "execution_count": 3,
   "metadata": {},
   "outputs": [
    {
     "data": {
      "text/plain": [
       "(351, 7)"
      ]
     },
     "execution_count": 3,
     "metadata": {},
     "output_type": "execute_result"
    }
   ],
   "source": [
    "no_duplicates=df.drop_duplicates('Name')\n",
    "no_duplicates.shape"
   ]
  },
  {
   "cell_type": "markdown",
   "metadata": {},
   "source": [
    "#### There are 351 unique books in total from the year 2009 to 2019"
   ]
  },
  {
   "cell_type": "markdown",
   "metadata": {},
   "source": [
    "\n",
    "## What is the aim of performing EDA on this dataset\n",
    "### A. How is the sales of each genre in each year,is it influenced by the Genre?\n",
    "### B. Is there any relation between Price of the book and year?\n",
    "### C. which genre books have generally high prices in every year?\n",
    "### D. which genre have more reviews?\n",
    "### E. Is user rating and reviews connected?\n",
    "### F.  Did people buy books depending on the prices?"
   ]
  },
  {
   "cell_type": "code",
   "execution_count": 4,
   "metadata": {},
   "outputs": [
    {
     "data": {
      "text/html": [
       "<div>\n",
       "<style scoped>\n",
       "    .dataframe tbody tr th:only-of-type {\n",
       "        vertical-align: middle;\n",
       "    }\n",
       "\n",
       "    .dataframe tbody tr th {\n",
       "        vertical-align: top;\n",
       "    }\n",
       "\n",
       "    .dataframe thead th {\n",
       "        text-align: right;\n",
       "    }\n",
       "</style>\n",
       "<table border=\"1\" class=\"dataframe\">\n",
       "  <thead>\n",
       "    <tr style=\"text-align: right;\">\n",
       "      <th></th>\n",
       "      <th>Name</th>\n",
       "      <th>Author</th>\n",
       "      <th>User Rating</th>\n",
       "      <th>Reviews</th>\n",
       "      <th>Price</th>\n",
       "      <th>Genre</th>\n",
       "    </tr>\n",
       "    <tr>\n",
       "      <th>Year</th>\n",
       "      <th></th>\n",
       "      <th></th>\n",
       "      <th></th>\n",
       "      <th></th>\n",
       "      <th></th>\n",
       "      <th></th>\n",
       "    </tr>\n",
       "  </thead>\n",
       "  <tbody>\n",
       "    <tr>\n",
       "      <th>2016</th>\n",
       "      <td>10-Day Green Smoothie Cleanse</td>\n",
       "      <td>JJ Smith</td>\n",
       "      <td>4.7</td>\n",
       "      <td>17350</td>\n",
       "      <td>8</td>\n",
       "      <td>Non Fiction</td>\n",
       "    </tr>\n",
       "    <tr>\n",
       "      <th>2011</th>\n",
       "      <td>11/22/63: A Novel</td>\n",
       "      <td>Stephen King</td>\n",
       "      <td>4.6</td>\n",
       "      <td>2052</td>\n",
       "      <td>22</td>\n",
       "      <td>Fiction</td>\n",
       "    </tr>\n",
       "    <tr>\n",
       "      <th>2018</th>\n",
       "      <td>12 Rules for Life: An Antidote to Chaos</td>\n",
       "      <td>Jordan B. Peterson</td>\n",
       "      <td>4.7</td>\n",
       "      <td>18979</td>\n",
       "      <td>15</td>\n",
       "      <td>Non Fiction</td>\n",
       "    </tr>\n",
       "    <tr>\n",
       "      <th>2017</th>\n",
       "      <td>1984 (Signet Classics)</td>\n",
       "      <td>George Orwell</td>\n",
       "      <td>4.7</td>\n",
       "      <td>21424</td>\n",
       "      <td>6</td>\n",
       "      <td>Fiction</td>\n",
       "    </tr>\n",
       "    <tr>\n",
       "      <th>2019</th>\n",
       "      <td>5,000 Awesome Facts (About Everything!) (Natio...</td>\n",
       "      <td>National Geographic Kids</td>\n",
       "      <td>4.8</td>\n",
       "      <td>7665</td>\n",
       "      <td>12</td>\n",
       "      <td>Non Fiction</td>\n",
       "    </tr>\n",
       "  </tbody>\n",
       "</table>\n",
       "</div>"
      ],
      "text/plain": [
       "                                                   Name  \\\n",
       "Year                                                      \n",
       "2016                      10-Day Green Smoothie Cleanse   \n",
       "2011                                  11/22/63: A Novel   \n",
       "2018            12 Rules for Life: An Antidote to Chaos   \n",
       "2017                             1984 (Signet Classics)   \n",
       "2019  5,000 Awesome Facts (About Everything!) (Natio...   \n",
       "\n",
       "                        Author  User Rating  Reviews  Price        Genre  \n",
       "Year                                                                      \n",
       "2016                  JJ Smith          4.7    17350      8  Non Fiction  \n",
       "2011              Stephen King          4.6     2052     22      Fiction  \n",
       "2018        Jordan B. Peterson          4.7    18979     15  Non Fiction  \n",
       "2017             George Orwell          4.7    21424      6      Fiction  \n",
       "2019  National Geographic Kids          4.8     7665     12  Non Fiction  "
      ]
     },
     "execution_count": 4,
     "metadata": {},
     "output_type": "execute_result"
    }
   ],
   "source": [
    "df_year_wise=df.set_index('Year')\n",
    "df_year_wise.head()"
   ]
  },
  {
   "cell_type": "code",
   "execution_count": 5,
   "metadata": {},
   "outputs": [
    {
     "data": {
      "text/plain": [
       "2019    50\n",
       "2018    50\n",
       "2017    50\n",
       "2016    50\n",
       "2015    50\n",
       "2014    50\n",
       "2013    50\n",
       "2012    50\n",
       "2011    50\n",
       "2010    50\n",
       "2009    50\n",
       "Name: Year, dtype: int64"
      ]
     },
     "execution_count": 5,
     "metadata": {},
     "output_type": "execute_result"
    }
   ],
   "source": [
    "df_year_wise.index.value_counts()"
   ]
  },
  {
   "cell_type": "code",
   "execution_count": 6,
   "metadata": {},
   "outputs": [],
   "source": [
    "pd.to_datetime(df_year_wise.index);"
   ]
  },
  {
   "cell_type": "code",
   "execution_count": 7,
   "metadata": {},
   "outputs": [
    {
     "name": "stdout",
     "output_type": "stream",
     "text": [
      "<class 'pandas.core.frame.DataFrame'>\n",
      "RangeIndex: 550 entries, 0 to 549\n",
      "Data columns (total 7 columns):\n",
      " #   Column       Non-Null Count  Dtype  \n",
      "---  ------       --------------  -----  \n",
      " 0   Name         550 non-null    object \n",
      " 1   Author       550 non-null    object \n",
      " 2   User Rating  550 non-null    float64\n",
      " 3   Reviews      550 non-null    int64  \n",
      " 4   Price        550 non-null    int64  \n",
      " 5   Year         550 non-null    int64  \n",
      " 6   Genre        550 non-null    object \n",
      "dtypes: float64(1), int64(3), object(3)\n",
      "memory usage: 30.2+ KB\n"
     ]
    }
   ],
   "source": [
    "df.info()\n"
   ]
  },
  {
   "cell_type": "code",
   "execution_count": 8,
   "metadata": {},
   "outputs": [],
   "source": [
    "#changing the datatype to 'Category'\n",
    "df['Genre']=df['Genre'].astype('category')"
   ]
  },
  {
   "cell_type": "code",
   "execution_count": 9,
   "metadata": {},
   "outputs": [
    {
     "name": "stdout",
     "output_type": "stream",
     "text": [
      "<class 'pandas.core.frame.DataFrame'>\n",
      "RangeIndex: 550 entries, 0 to 549\n",
      "Data columns (total 7 columns):\n",
      " #   Column       Non-Null Count  Dtype   \n",
      "---  ------       --------------  -----   \n",
      " 0   Name         550 non-null    object  \n",
      " 1   Author       550 non-null    object  \n",
      " 2   User Rating  550 non-null    float64 \n",
      " 3   Reviews      550 non-null    int64   \n",
      " 4   Price        550 non-null    int64   \n",
      " 5   Year         550 non-null    int64   \n",
      " 6   Genre        550 non-null    category\n",
      "dtypes: category(1), float64(1), int64(3), object(2)\n",
      "memory usage: 26.5+ KB\n"
     ]
    }
   ],
   "source": [
    "df.info()"
   ]
  },
  {
   "cell_type": "code",
   "execution_count": 10,
   "metadata": {},
   "outputs": [
    {
     "data": {
      "text/html": [
       "<div>\n",
       "<style scoped>\n",
       "    .dataframe tbody tr th:only-of-type {\n",
       "        vertical-align: middle;\n",
       "    }\n",
       "\n",
       "    .dataframe tbody tr th {\n",
       "        vertical-align: top;\n",
       "    }\n",
       "\n",
       "    .dataframe thead th {\n",
       "        text-align: right;\n",
       "    }\n",
       "</style>\n",
       "<table border=\"1\" class=\"dataframe\">\n",
       "  <thead>\n",
       "    <tr style=\"text-align: right;\">\n",
       "      <th></th>\n",
       "      <th>User Rating</th>\n",
       "      <th>Reviews</th>\n",
       "      <th>Price</th>\n",
       "      <th>Year</th>\n",
       "    </tr>\n",
       "  </thead>\n",
       "  <tbody>\n",
       "    <tr>\n",
       "      <th>count</th>\n",
       "      <td>550.000000</td>\n",
       "      <td>550.000000</td>\n",
       "      <td>550.000000</td>\n",
       "      <td>550.000000</td>\n",
       "    </tr>\n",
       "    <tr>\n",
       "      <th>mean</th>\n",
       "      <td>4.618364</td>\n",
       "      <td>11953.281818</td>\n",
       "      <td>13.100000</td>\n",
       "      <td>2014.000000</td>\n",
       "    </tr>\n",
       "    <tr>\n",
       "      <th>std</th>\n",
       "      <td>0.226980</td>\n",
       "      <td>11731.132017</td>\n",
       "      <td>10.842262</td>\n",
       "      <td>3.165156</td>\n",
       "    </tr>\n",
       "    <tr>\n",
       "      <th>min</th>\n",
       "      <td>3.300000</td>\n",
       "      <td>37.000000</td>\n",
       "      <td>0.000000</td>\n",
       "      <td>2009.000000</td>\n",
       "    </tr>\n",
       "    <tr>\n",
       "      <th>25%</th>\n",
       "      <td>4.500000</td>\n",
       "      <td>4058.000000</td>\n",
       "      <td>7.000000</td>\n",
       "      <td>2011.000000</td>\n",
       "    </tr>\n",
       "    <tr>\n",
       "      <th>50%</th>\n",
       "      <td>4.700000</td>\n",
       "      <td>8580.000000</td>\n",
       "      <td>11.000000</td>\n",
       "      <td>2014.000000</td>\n",
       "    </tr>\n",
       "    <tr>\n",
       "      <th>75%</th>\n",
       "      <td>4.800000</td>\n",
       "      <td>17253.250000</td>\n",
       "      <td>16.000000</td>\n",
       "      <td>2017.000000</td>\n",
       "    </tr>\n",
       "    <tr>\n",
       "      <th>max</th>\n",
       "      <td>4.900000</td>\n",
       "      <td>87841.000000</td>\n",
       "      <td>105.000000</td>\n",
       "      <td>2019.000000</td>\n",
       "    </tr>\n",
       "  </tbody>\n",
       "</table>\n",
       "</div>"
      ],
      "text/plain": [
       "       User Rating       Reviews       Price         Year\n",
       "count   550.000000    550.000000  550.000000   550.000000\n",
       "mean      4.618364  11953.281818   13.100000  2014.000000\n",
       "std       0.226980  11731.132017   10.842262     3.165156\n",
       "min       3.300000     37.000000    0.000000  2009.000000\n",
       "25%       4.500000   4058.000000    7.000000  2011.000000\n",
       "50%       4.700000   8580.000000   11.000000  2014.000000\n",
       "75%       4.800000  17253.250000   16.000000  2017.000000\n",
       "max       4.900000  87841.000000  105.000000  2019.000000"
      ]
     },
     "execution_count": 10,
     "metadata": {},
     "output_type": "execute_result"
    }
   ],
   "source": [
    "df.describe()"
   ]
  },
  {
   "cell_type": "markdown",
   "metadata": {},
   "source": [
    "#### Minimum price of book is 0 which is not possible so checking those columns and imputing values"
   ]
  },
  {
   "cell_type": "code",
   "execution_count": 11,
   "metadata": {},
   "outputs": [
    {
     "data": {
      "text/html": [
       "<div>\n",
       "<style scoped>\n",
       "    .dataframe tbody tr th:only-of-type {\n",
       "        vertical-align: middle;\n",
       "    }\n",
       "\n",
       "    .dataframe tbody tr th {\n",
       "        vertical-align: top;\n",
       "    }\n",
       "\n",
       "    .dataframe thead th {\n",
       "        text-align: right;\n",
       "    }\n",
       "</style>\n",
       "<table border=\"1\" class=\"dataframe\">\n",
       "  <thead>\n",
       "    <tr style=\"text-align: right;\">\n",
       "      <th></th>\n",
       "      <th>Name</th>\n",
       "      <th>Author</th>\n",
       "      <th>User Rating</th>\n",
       "      <th>Reviews</th>\n",
       "      <th>Price</th>\n",
       "      <th>Year</th>\n",
       "      <th>Genre</th>\n",
       "    </tr>\n",
       "  </thead>\n",
       "  <tbody>\n",
       "    <tr>\n",
       "      <th>42</th>\n",
       "      <td>Cabin Fever (Diary of a Wimpy Kid, Book 6)</td>\n",
       "      <td>Jeff Kinney</td>\n",
       "      <td>4.8</td>\n",
       "      <td>4505</td>\n",
       "      <td>0</td>\n",
       "      <td>2011</td>\n",
       "      <td>Fiction</td>\n",
       "    </tr>\n",
       "    <tr>\n",
       "      <th>71</th>\n",
       "      <td>Diary of a Wimpy Kid: Hard Luck, Book 8</td>\n",
       "      <td>Jeff Kinney</td>\n",
       "      <td>4.8</td>\n",
       "      <td>6812</td>\n",
       "      <td>0</td>\n",
       "      <td>2013</td>\n",
       "      <td>Fiction</td>\n",
       "    </tr>\n",
       "    <tr>\n",
       "      <th>116</th>\n",
       "      <td>Frozen (Little Golden Book)</td>\n",
       "      <td>RH Disney</td>\n",
       "      <td>4.7</td>\n",
       "      <td>3642</td>\n",
       "      <td>0</td>\n",
       "      <td>2014</td>\n",
       "      <td>Fiction</td>\n",
       "    </tr>\n",
       "    <tr>\n",
       "      <th>193</th>\n",
       "      <td>JOURNEY TO THE ICE P</td>\n",
       "      <td>RH Disney</td>\n",
       "      <td>4.6</td>\n",
       "      <td>978</td>\n",
       "      <td>0</td>\n",
       "      <td>2014</td>\n",
       "      <td>Fiction</td>\n",
       "    </tr>\n",
       "    <tr>\n",
       "      <th>219</th>\n",
       "      <td>Little Blue Truck</td>\n",
       "      <td>Alice Schertle</td>\n",
       "      <td>4.9</td>\n",
       "      <td>1884</td>\n",
       "      <td>0</td>\n",
       "      <td>2014</td>\n",
       "      <td>Fiction</td>\n",
       "    </tr>\n",
       "    <tr>\n",
       "      <th>358</th>\n",
       "      <td>The Constitution of the United States</td>\n",
       "      <td>Delegates of the Constitutional</td>\n",
       "      <td>4.8</td>\n",
       "      <td>2774</td>\n",
       "      <td>0</td>\n",
       "      <td>2016</td>\n",
       "      <td>Non Fiction</td>\n",
       "    </tr>\n",
       "    <tr>\n",
       "      <th>381</th>\n",
       "      <td>The Getaway</td>\n",
       "      <td>Jeff Kinney</td>\n",
       "      <td>4.8</td>\n",
       "      <td>5836</td>\n",
       "      <td>0</td>\n",
       "      <td>2017</td>\n",
       "      <td>Fiction</td>\n",
       "    </tr>\n",
       "    <tr>\n",
       "      <th>461</th>\n",
       "      <td>The Short Second Life of Bree Tanner: An Eclip...</td>\n",
       "      <td>Stephenie Meyer</td>\n",
       "      <td>4.6</td>\n",
       "      <td>2122</td>\n",
       "      <td>0</td>\n",
       "      <td>2010</td>\n",
       "      <td>Fiction</td>\n",
       "    </tr>\n",
       "    <tr>\n",
       "      <th>505</th>\n",
       "      <td>To Kill a Mockingbird</td>\n",
       "      <td>Harper Lee</td>\n",
       "      <td>4.8</td>\n",
       "      <td>26234</td>\n",
       "      <td>0</td>\n",
       "      <td>2013</td>\n",
       "      <td>Fiction</td>\n",
       "    </tr>\n",
       "    <tr>\n",
       "      <th>506</th>\n",
       "      <td>To Kill a Mockingbird</td>\n",
       "      <td>Harper Lee</td>\n",
       "      <td>4.8</td>\n",
       "      <td>26234</td>\n",
       "      <td>0</td>\n",
       "      <td>2014</td>\n",
       "      <td>Fiction</td>\n",
       "    </tr>\n",
       "    <tr>\n",
       "      <th>507</th>\n",
       "      <td>To Kill a Mockingbird</td>\n",
       "      <td>Harper Lee</td>\n",
       "      <td>4.8</td>\n",
       "      <td>26234</td>\n",
       "      <td>0</td>\n",
       "      <td>2015</td>\n",
       "      <td>Fiction</td>\n",
       "    </tr>\n",
       "    <tr>\n",
       "      <th>508</th>\n",
       "      <td>To Kill a Mockingbird</td>\n",
       "      <td>Harper Lee</td>\n",
       "      <td>4.8</td>\n",
       "      <td>26234</td>\n",
       "      <td>0</td>\n",
       "      <td>2016</td>\n",
       "      <td>Fiction</td>\n",
       "    </tr>\n",
       "  </tbody>\n",
       "</table>\n",
       "</div>"
      ],
      "text/plain": [
       "                                                  Name  \\\n",
       "42          Cabin Fever (Diary of a Wimpy Kid, Book 6)   \n",
       "71             Diary of a Wimpy Kid: Hard Luck, Book 8   \n",
       "116                        Frozen (Little Golden Book)   \n",
       "193                               JOURNEY TO THE ICE P   \n",
       "219                                  Little Blue Truck   \n",
       "358              The Constitution of the United States   \n",
       "381                                        The Getaway   \n",
       "461  The Short Second Life of Bree Tanner: An Eclip...   \n",
       "505                              To Kill a Mockingbird   \n",
       "506                              To Kill a Mockingbird   \n",
       "507                              To Kill a Mockingbird   \n",
       "508                              To Kill a Mockingbird   \n",
       "\n",
       "                               Author  User Rating  Reviews  Price  Year  \\\n",
       "42                        Jeff Kinney          4.8     4505      0  2011   \n",
       "71                        Jeff Kinney          4.8     6812      0  2013   \n",
       "116                         RH Disney          4.7     3642      0  2014   \n",
       "193                         RH Disney          4.6      978      0  2014   \n",
       "219                    Alice Schertle          4.9     1884      0  2014   \n",
       "358  Delegates of the Constitutional\n",
       "          4.8     2774      0  2016   \n",
       "381                       Jeff Kinney          4.8     5836      0  2017   \n",
       "461                   Stephenie Meyer          4.6     2122      0  2010   \n",
       "505                        Harper Lee          4.8    26234      0  2013   \n",
       "506                        Harper Lee          4.8    26234      0  2014   \n",
       "507                        Harper Lee          4.8    26234      0  2015   \n",
       "508                        Harper Lee          4.8    26234      0  2016   \n",
       "\n",
       "           Genre  \n",
       "42       Fiction  \n",
       "71       Fiction  \n",
       "116      Fiction  \n",
       "193      Fiction  \n",
       "219      Fiction  \n",
       "358  Non Fiction  \n",
       "381      Fiction  \n",
       "461      Fiction  \n",
       "505      Fiction  \n",
       "506      Fiction  \n",
       "507      Fiction  \n",
       "508      Fiction  "
      ]
     },
     "execution_count": 11,
     "metadata": {},
     "output_type": "execute_result"
    }
   ],
   "source": [
    "df[df['Price']==0]"
   ]
  },
  {
   "cell_type": "markdown",
   "metadata": {},
   "source": [
    "#### minimum price of a book is shown to be 0 which is highly unlikely and might be a typing to replacing those value by 9"
   ]
  },
  {
   "cell_type": "code",
   "execution_count": 12,
   "metadata": {},
   "outputs": [],
   "source": [
    "#replacing the price 0 by 9 because the missing prices vary with maximum books having prices 9,10 when checked on amazon\n",
    "df['Price'].replace({0:9},inplace=True)"
   ]
  },
  {
   "cell_type": "code",
   "execution_count": 13,
   "metadata": {},
   "outputs": [
    {
     "data": {
      "text/html": [
       "<div>\n",
       "<style scoped>\n",
       "    .dataframe tbody tr th:only-of-type {\n",
       "        vertical-align: middle;\n",
       "    }\n",
       "\n",
       "    .dataframe tbody tr th {\n",
       "        vertical-align: top;\n",
       "    }\n",
       "\n",
       "    .dataframe thead th {\n",
       "        text-align: right;\n",
       "    }\n",
       "</style>\n",
       "<table border=\"1\" class=\"dataframe\">\n",
       "  <thead>\n",
       "    <tr style=\"text-align: right;\">\n",
       "      <th></th>\n",
       "      <th>User Rating</th>\n",
       "      <th>Reviews</th>\n",
       "      <th>Price</th>\n",
       "      <th>Year</th>\n",
       "    </tr>\n",
       "  </thead>\n",
       "  <tbody>\n",
       "    <tr>\n",
       "      <th>count</th>\n",
       "      <td>550.000000</td>\n",
       "      <td>550.000000</td>\n",
       "      <td>550.000000</td>\n",
       "      <td>550.000000</td>\n",
       "    </tr>\n",
       "    <tr>\n",
       "      <th>mean</th>\n",
       "      <td>4.618364</td>\n",
       "      <td>11953.281818</td>\n",
       "      <td>13.296364</td>\n",
       "      <td>2014.000000</td>\n",
       "    </tr>\n",
       "    <tr>\n",
       "      <th>std</th>\n",
       "      <td>0.226980</td>\n",
       "      <td>11731.132017</td>\n",
       "      <td>10.683277</td>\n",
       "      <td>3.165156</td>\n",
       "    </tr>\n",
       "    <tr>\n",
       "      <th>min</th>\n",
       "      <td>3.300000</td>\n",
       "      <td>37.000000</td>\n",
       "      <td>1.000000</td>\n",
       "      <td>2009.000000</td>\n",
       "    </tr>\n",
       "    <tr>\n",
       "      <th>25%</th>\n",
       "      <td>4.500000</td>\n",
       "      <td>4058.000000</td>\n",
       "      <td>8.000000</td>\n",
       "      <td>2011.000000</td>\n",
       "    </tr>\n",
       "    <tr>\n",
       "      <th>50%</th>\n",
       "      <td>4.700000</td>\n",
       "      <td>8580.000000</td>\n",
       "      <td>11.000000</td>\n",
       "      <td>2014.000000</td>\n",
       "    </tr>\n",
       "    <tr>\n",
       "      <th>75%</th>\n",
       "      <td>4.800000</td>\n",
       "      <td>17253.250000</td>\n",
       "      <td>16.000000</td>\n",
       "      <td>2017.000000</td>\n",
       "    </tr>\n",
       "    <tr>\n",
       "      <th>max</th>\n",
       "      <td>4.900000</td>\n",
       "      <td>87841.000000</td>\n",
       "      <td>105.000000</td>\n",
       "      <td>2019.000000</td>\n",
       "    </tr>\n",
       "  </tbody>\n",
       "</table>\n",
       "</div>"
      ],
      "text/plain": [
       "       User Rating       Reviews       Price         Year\n",
       "count   550.000000    550.000000  550.000000   550.000000\n",
       "mean      4.618364  11953.281818   13.296364  2014.000000\n",
       "std       0.226980  11731.132017   10.683277     3.165156\n",
       "min       3.300000     37.000000    1.000000  2009.000000\n",
       "25%       4.500000   4058.000000    8.000000  2011.000000\n",
       "50%       4.700000   8580.000000   11.000000  2014.000000\n",
       "75%       4.800000  17253.250000   16.000000  2017.000000\n",
       "max       4.900000  87841.000000  105.000000  2019.000000"
      ]
     },
     "execution_count": 13,
     "metadata": {},
     "output_type": "execute_result"
    }
   ],
   "source": [
    "df.describe()#mean and standard deviation of the price are almost after imputing the columns having price 0 with 10"
   ]
  },
  {
   "cell_type": "code",
   "execution_count": 14,
   "metadata": {},
   "outputs": [
    {
     "data": {
      "text/plain": [
       "Non Fiction    0.54416\n",
       "Fiction        0.45584\n",
       "Name: Genre, dtype: float64"
      ]
     },
     "execution_count": 14,
     "metadata": {},
     "output_type": "execute_result"
    }
   ],
   "source": [
    "no_duplicates['Genre'].value_counts(normalize=True)"
   ]
  },
  {
   "cell_type": "markdown",
   "metadata": {},
   "source": [
    "### Out of total 351 unique books there are 54.4 % Non Fiction books and 45.6% Fiction books. Let's visualize the data according to the genre."
   ]
  },
  {
   "cell_type": "code",
   "execution_count": 15,
   "metadata": {},
   "outputs": [],
   "source": [
    "genre_count = no_duplicates['Genre'].value_counts()"
   ]
  },
  {
   "cell_type": "code",
   "execution_count": 16,
   "metadata": {},
   "outputs": [
    {
     "name": "stderr",
     "output_type": "stream",
     "text": [
      "<ipython-input-16-27bc53d2887a>:18: UserWarning: Matplotlib is currently using module://ipykernel.pylab.backend_inline, which is a non-GUI backend, so cannot show the figure.\n",
      "  fig.show()\n"
     ]
    },
    {
     "data": {
      "image/png": "[encoded data removed]",
      "text/plain": [
       "<Figure size 576x576 with 1 Axes>"
      ]
     },
     "metadata": {},
     "output_type": "display_data"
    }
   ],
   "source": [
    "fig, ax = plt.subplots(figsize=(8, 8))\n",
    "\n",
    "def make_autopct(values):\n",
    "    def my_autopct(pct):\n",
    "        total = sum(values)\n",
    "        val = int(round(pct*total/100.0))\n",
    "        return '{p:.2f}%\\n({v:d})'.format(p=pct,v=val)\n",
    "    return my_autopct\n",
    "\n",
    "genre_col = ['navy','crimson'] # colors for the chart\n",
    "\n",
    "center_circle = plt.Circle((0, 0), 0.7, color='white')\n",
    "plt.pie(x=genre_count.values, labels=genre_count.index, autopct=make_autopct(genre_count.values), \n",
    "          startangle=90, textprops={'size': 15}, pctdistance=0.5, colors=genre_col)\n",
    "ax.add_artist(center_circle)\n",
    "\n",
    "fig.suptitle('Distribution of Genre for all unique books from 2009 to 2019', fontsize=20)\n",
    "fig.show()"
   ]
  },
  {
   "cell_type": "code",
   "execution_count": 17,
   "metadata": {
    "scrolled": true
   },
   "outputs": [
    {
     "data": {
      "text/plain": [
       "Year  Genre      \n",
       "2009  Non Fiction    0.52\n",
       "      Fiction        0.48\n",
       "2010  Non Fiction    0.60\n",
       "      Fiction        0.40\n",
       "2011  Non Fiction    0.58\n",
       "      Fiction        0.42\n",
       "2012  Non Fiction    0.58\n",
       "      Fiction        0.42\n",
       "2013  Non Fiction    0.52\n",
       "      Fiction        0.48\n",
       "2014  Fiction        0.58\n",
       "      Non Fiction    0.42\n",
       "2015  Non Fiction    0.66\n",
       "      Fiction        0.34\n",
       "2016  Non Fiction    0.62\n",
       "      Fiction        0.38\n",
       "2017  Non Fiction    0.52\n",
       "      Fiction        0.48\n",
       "2018  Non Fiction    0.58\n",
       "      Fiction        0.42\n",
       "2019  Non Fiction    0.60\n",
       "      Fiction        0.40\n",
       "Name: Genre, dtype: float64"
      ]
     },
     "execution_count": 17,
     "metadata": {},
     "output_type": "execute_result"
    }
   ],
   "source": [
    "df_year_wise.groupby(df_year_wise.index)['Genre'].value_counts(normalize=True)"
   ]
  },
  {
   "cell_type": "code",
   "execution_count": 18,
   "metadata": {
    "scrolled": true
   },
   "outputs": [
    {
     "data": {
      "text/html": [
       "<div>\n",
       "<style scoped>\n",
       "    .dataframe tbody tr th:only-of-type {\n",
       "        vertical-align: middle;\n",
       "    }\n",
       "\n",
       "    .dataframe tbody tr th {\n",
       "        vertical-align: top;\n",
       "    }\n",
       "\n",
       "    .dataframe thead th {\n",
       "        text-align: right;\n",
       "    }\n",
       "</style>\n",
       "<table border=\"1\" class=\"dataframe\">\n",
       "  <thead>\n",
       "    <tr style=\"text-align: right;\">\n",
       "      <th>year</th>\n",
       "      <th>2009</th>\n",
       "      <th>2010</th>\n",
       "      <th>2011</th>\n",
       "      <th>2012</th>\n",
       "      <th>2013</th>\n",
       "      <th>2014</th>\n",
       "      <th>2015</th>\n",
       "      <th>2016</th>\n",
       "      <th>2017</th>\n",
       "      <th>2018</th>\n",
       "      <th>2019</th>\n",
       "    </tr>\n",
       "    <tr>\n",
       "      <th>Genre</th>\n",
       "      <th></th>\n",
       "      <th></th>\n",
       "      <th></th>\n",
       "      <th></th>\n",
       "      <th></th>\n",
       "      <th></th>\n",
       "      <th></th>\n",
       "      <th></th>\n",
       "      <th></th>\n",
       "      <th></th>\n",
       "      <th></th>\n",
       "    </tr>\n",
       "  </thead>\n",
       "  <tbody>\n",
       "    <tr>\n",
       "      <th>Fiction</th>\n",
       "      <td>24</td>\n",
       "      <td>20</td>\n",
       "      <td>21</td>\n",
       "      <td>21</td>\n",
       "      <td>24</td>\n",
       "      <td>29</td>\n",
       "      <td>17</td>\n",
       "      <td>19</td>\n",
       "      <td>24</td>\n",
       "      <td>21</td>\n",
       "      <td>20</td>\n",
       "    </tr>\n",
       "    <tr>\n",
       "      <th>Non Fiction</th>\n",
       "      <td>26</td>\n",
       "      <td>30</td>\n",
       "      <td>29</td>\n",
       "      <td>29</td>\n",
       "      <td>26</td>\n",
       "      <td>21</td>\n",
       "      <td>33</td>\n",
       "      <td>31</td>\n",
       "      <td>26</td>\n",
       "      <td>29</td>\n",
       "      <td>30</td>\n",
       "    </tr>\n",
       "  </tbody>\n",
       "</table>\n",
       "</div>"
      ],
      "text/plain": [
       "year         2009  2010  2011  2012  2013  2014  2015  2016  2017  2018  2019\n",
       "Genre                                                                        \n",
       "Fiction        24    20    21    21    24    29    17    19    24    21    20\n",
       "Non Fiction    26    30    29    29    26    21    33    31    26    29    30"
      ]
     },
     "execution_count": 18,
     "metadata": {},
     "output_type": "execute_result"
    }
   ],
   "source": [
    "pd.crosstab(df['Genre'],df['Year'],colnames=['year'])"
   ]
  },
  {
   "cell_type": "code",
   "execution_count": 19,
   "metadata": {},
   "outputs": [
    {
     "name": "stderr",
     "output_type": "stream",
     "text": [
      "<ipython-input-19-6b0cb23b2266>:28: UserWarning: Matplotlib is currently using module://ipykernel.pylab.backend_inline, which is a non-GUI backend, so cannot show the figure.\n",
      "  fig.show()\n"
     ]
    },
    {
     "data": {
      "image/png": "[encoded data removed]",
      "text/plain": [
       "<Figure size 792x360 with 12 Axes>"
      ]
     },
     "metadata": {},
     "output_type": "display_data"
    }
   ],
   "source": [
    "y1 = np.arange(2009,2014)\n",
    "y2 = np.arange(2014,2020)\n",
    "\n",
    "fig, ax = plt.subplots(2, 6, figsize=(11,5))\n",
    "\n",
    "ax[0,0].pie(x=genre_count.values, labels=None, autopct='%1.1f%%',\n",
    "            startangle=90, textprops={'size': 12, 'color': 'white'},\n",
    "            pctdistance=0.5, radius=1.3, colors=genre_col)\n",
    "ax[0,0].set_title('2009 - 2019\\n(Overall)', color='darkgreen', fontdict={'fontsize': 15})\n",
    "\n",
    "for i, year in enumerate(y1):\n",
    "    counts = df[df['Year'] == year]['Genre'].value_counts()\n",
    "    ax[0,i+1].set_title(year, color='darkred', fontdict={'fontsize': 15})\n",
    "    ax[0,i+1].pie(x=counts.values, labels=None, autopct='%1.1f%%', \n",
    "                  startangle=90, textprops={'size': 12,'color': 'white'}, \n",
    "                  pctdistance=0.5, colors=genre_col, radius=1.1)\n",
    "\n",
    "for i, year in enumerate(y2):\n",
    "    counts = df[df['Year'] == year]['Genre'].value_counts()\n",
    "    ax[1,i].pie(x=counts.values, labels=None, autopct='%1.1f%%', \n",
    "                startangle=90, textprops={'size': 12,'color': 'white'},\n",
    "                pctdistance=0.5, colors=genre_col, radius=1.1)\n",
    "    ax[1,i].set_title(year, color='darkred', fontdict={'fontsize': 15})\n",
    "\n",
    "plt.suptitle('Distribution of Fiction and Non-Fiction books for every year from 2009 to 2019',\n",
    "             fontsize=25)\n",
    "fig.legend(genre_count.index, loc='center right', fontsize=12)\n",
    "fig.show()"
   ]
  },
  {
   "cell_type": "markdown",
   "metadata": {},
   "source": [
    "#### Only the year 2014 saw more sales of FICTION books,has price influenced the sales?\n",
    "#### Comparing it with different years to see if there is a different trend"
   ]
  },
  {
   "cell_type": "code",
   "execution_count": 20,
   "metadata": {},
   "outputs": [
    {
     "data": {
      "image/png": "[encoded data removed]",
      "text/plain": [
       "<Figure size 432x288 with 1 Axes>"
      ]
     },
     "metadata": {},
     "output_type": "display_data"
    }
   ],
   "source": [
    "df_2014=df_year_wise.loc[2014]\n",
    "df_2014_fiction=df_2014[df_2014['Genre']=='Fiction']\n",
    "df_2014_non_fiction=df_2014[df_2014['Genre']=='Non Fiction']\n",
    "fig,ax=plt.subplots()\n",
    "ax.hist(df_2014_fiction['Price'],label='Fiction',histtype='step')\n",
    "ax.hist(df_2014_non_fiction['Price'],label='Non Fiction',histtype='step')\n",
    "ax.set_xlabel('PRICES')\n",
    "ax.set_ylabel('NUMBER OF BOOKS FOR GIVEN PRICE')\n",
    "ax.set_title('SALES OF EACH GENRE FOR YEAR 2014')\n",
    "ax.legend()\n",
    "plt.show()"
   ]
  },
  {
   "cell_type": "code",
   "execution_count": 21,
   "metadata": {},
   "outputs": [
    {
     "data": {
      "text/plain": [
       "10.172413793103448"
      ]
     },
     "execution_count": 21,
     "metadata": {},
     "output_type": "execute_result"
    }
   ],
   "source": [
    "df_2014[df_2014['Genre']==\"Fiction\"]['Price'].mean()"
   ]
  },
  {
   "cell_type": "code",
   "execution_count": 22,
   "metadata": {},
   "outputs": [
    {
     "data": {
      "text/plain": [
       "20.80952380952381"
      ]
     },
     "execution_count": 22,
     "metadata": {},
     "output_type": "execute_result"
    }
   ],
   "source": [
    "df_2014[df_2014['Genre']=='Non Fiction']['Price'].mean()"
   ]
  },
  {
   "cell_type": "code",
   "execution_count": 23,
   "metadata": {},
   "outputs": [
    {
     "data": {
      "image/png": "[encoded data removed]",
      "text/plain": [
       "<Figure size 432x288 with 1 Axes>"
      ]
     },
     "metadata": {},
     "output_type": "display_data"
    }
   ],
   "source": [
    "df_2015 = df_year_wise.loc[2015]\n",
    "df_2015_fiction=df_2015[df_2015['Genre']=='Fiction']\n",
    "df_2015_non_fiction=df_2015[df_2015['Genre']=='Non Fiction']\n",
    "fig,ax=plt.subplots()\n",
    "ax.hist(df_2015_fiction['Price'],label='Fiction',histtype='step')\n",
    "ax.hist(df_2015_non_fiction['Price'],label='Non Fiction',histtype='step')\n",
    "ax.set_xlabel('PRICES')\n",
    "ax.set_ylabel('NUMBER OF BOOKS FOR GIVEN PRICE')\n",
    "ax.set_title('SALES OF EACH GENRE FOR YEAR 2015')\n",
    "ax.legend()\n",
    "plt.show()"
   ]
  },
  {
   "cell_type": "code",
   "execution_count": 24,
   "metadata": {},
   "outputs": [
    {
     "data": {
      "image/png": "[encoded data removed]",
      "text/plain": [
       "<Figure size 432x288 with 1 Axes>"
      ]
     },
     "metadata": {},
     "output_type": "display_data"
    }
   ],
   "source": [
    "df_2016=df_year_wise.loc[2016]\n",
    "df_2016_fiction=df_2016[df_2016['Genre']=='Fiction']\n",
    "df_2016_non_fiction=df_2016[df_2016['Genre']=='Non Fiction']\n",
    "fig,ax=plt.subplots()\n",
    "ax.hist(df_2016_fiction['Price'],label='Fiction',histtype='step')\n",
    "ax.hist(df_2016_non_fiction['Price'],label='Non Fiction',histtype='step')\n",
    "ax.set_xlabel('PRICES')\n",
    "ax.set_ylabel('NUMBER OF BOOKS FOR GIVEN PRICE')\n",
    "ax.set_title('SALES OF EACH GENRE FOR YEAR 2016')\n",
    "ax.legend()\n",
    "plt.show()"
   ]
  },
  {
   "cell_type": "markdown",
   "metadata": {},
   "source": [
    "### As seen from the above 3 plots even though the price of Non Fiction is more the sales of Non Fiction was more so prices dont influence the sales but the quality does"
   ]
  },
  {
   "cell_type": "code",
   "execution_count": 25,
   "metadata": {},
   "outputs": [
    {
     "data": {
      "image/png": "[encoded data removed]",
      "text/plain": [
       "<Figure size 432x288 with 2 Axes>"
      ]
     },
     "metadata": {},
     "output_type": "display_data"
    }
   ],
   "source": [
    "#plotting a correlation matrix to see all the correlation\n",
    "corr=df.corr()\n",
    "#removing duplicating values from the correlation matrix using np.triu for upper triangle\n",
    "mask = np.triu(np.ones_like(corr,dtype=bool))\n",
    "sns.heatmap(corr,mask=mask,annot = True, fmt='.2f')\n",
    "plt.title('CORRELATION BETWEEN DIFFERENT VARIABLES')\n",
    "plt.show()"
   ]
  },
  {
   "cell_type": "markdown",
   "metadata": {},
   "source": [
    "### One thing to note from above correlation matrix is that we have \"0\" correlation between Reviews and User Rating i.e they are totally uncorrelated features and there very little correlation between features"
   ]
  },
  {
   "cell_type": "code",
   "execution_count": 26,
   "metadata": {},
   "outputs": [
    {
     "data": {
      "text/plain": [
       "[2009, 2010, 2011, 2012, 2013, 2014, 2015, 2016, 2017, 2018, 2019]"
      ]
     },
     "execution_count": 26,
     "metadata": {},
     "output_type": "execute_result"
    }
   ],
   "source": [
    "years=list(np.sort(df_year_wise.index.unique()))\n",
    "years"
   ]
  },
  {
   "cell_type": "code",
   "execution_count": 27,
   "metadata": {},
   "outputs": [
    {
     "data": {
      "text/plain": [
       "Year\n",
       "2009    15.40\n",
       "2010    13.66\n",
       "2011    15.28\n",
       "2012    15.30\n",
       "2013    14.96\n",
       "2014    15.36\n",
       "2015    10.60\n",
       "2016    13.54\n",
       "2017    11.56\n",
       "2018    10.52\n",
       "2019    10.08\n",
       "Name: Price, dtype: float64"
      ]
     },
     "execution_count": 27,
     "metadata": {},
     "output_type": "execute_result"
    }
   ],
   "source": [
    "df.groupby('Year')[\"Price\"].mean()#negative correlation is there"
   ]
  },
  {
   "cell_type": "code",
   "execution_count": 28,
   "metadata": {},
   "outputs": [
    {
     "data": {
      "image/png": "[encoded data removed]",
      "text/plain": [
       "<Figure size 432x288 with 1 Axes>"
      ]
     },
     "metadata": {},
     "output_type": "display_data"
    }
   ],
   "source": [
    "plt.plot(years,df.groupby(['Year'])[\"Price\"].mean(),marker='*')\n",
    "plt.xlabel(\"YEARS\")\n",
    "plt.ylabel('MEAN PRICES EVERY YEAR')\n",
    "plt.title('AVERAGE PRICES OF BOOKS SOLD EACH YEAR')\n",
    "plt.show()"
   ]
  },
  {
   "cell_type": "code",
   "execution_count": 29,
   "metadata": {},
   "outputs": [],
   "source": [
    "count_genre_fiction=[]\n",
    "count_genre_non_fiction=[]\n",
    "for i in range(1,12):\n",
    "    year = int(2008) + int(i)\n",
    "    count_genre_fiction.append((df_year_wise.loc[year,'Genre']=='Fiction').sum())\n",
    "    count_genre_non_fiction.append((df_year_wise.loc[year,'Genre']=='Non Fiction').sum())"
   ]
  },
  {
   "cell_type": "code",
   "execution_count": 30,
   "metadata": {},
   "outputs": [
    {
     "data": {
      "image/png": "[encoded data removed]",
      "text/plain": [
       "<Figure size 432x288 with 1 Axes>"
      ]
     },
     "metadata": {},
     "output_type": "display_data"
    }
   ],
   "source": [
    "fig,ax=plt.subplots()\n",
    "ax.bar(years,count_genre_fiction,label='Fiction',color='blue',tick_label=years)\n",
    "ax.bar(years,count_genre_non_fiction,label='Non Fiction',color='red',bottom=count_genre_fiction)\n",
    "ax.set_xticklabels(years)\n",
    "ax.set_xlabel('YEARS')\n",
    "ax.set_ylabel('BOOKS SOLD EACH YEAR FOR GIVEN GENRE')\n",
    "ax.set_title('SALES OF EACH GENRE')\n",
    "ax.legend()\n",
    "plt.show()"
   ]
  },
  {
   "cell_type": "code",
   "execution_count": 31,
   "metadata": {},
   "outputs": [],
   "source": [
    "df_year_wise_fiction=df_year_wise[df_year_wise['Genre']=='Fiction']\n",
    "df_year_wise_non_fiction=df_year_wise[df_year_wise['Genre']=='Non Fiction']\n",
    "fiction_avg=df_year_wise_fiction.groupby('Year')['Price'].mean()\n",
    "non_fiction_avg=df_year_wise_non_fiction.groupby('Year')['Price'].mean()"
   ]
  },
  {
   "cell_type": "code",
   "execution_count": 32,
   "metadata": {},
   "outputs": [
    {
     "data": {
      "image/png": "[encoded data removed]",
      "text/plain": [
       "<Figure size 432x288 with 1 Axes>"
      ]
     },
     "metadata": {},
     "output_type": "display_data"
    }
   ],
   "source": [
    "plt.plot(years,fiction_avg,label='Fiction',color='red',marker='*')\n",
    "plt.plot(years,non_fiction_avg,label='Non Fiction',color='blue',marker='o')\n",
    "plt.legend()\n",
    "plt.xlabel('YEARS')\n",
    "plt.ylabel('MEAN OF PRICES')\n",
    "plt.title('AVERAGE PRICES OF EACH GENRE IN EACH YEAR')\n",
    "plt.show()"
   ]
  },
  {
   "cell_type": "markdown",
   "metadata": {},
   "source": [
    "### Non Fiction have high prices in comparison to Fiction books"
   ]
  },
  {
   "cell_type": "code",
   "execution_count": 33,
   "metadata": {},
   "outputs": [
    {
     "data": {
      "text/plain": [
       "(310, 6)"
      ]
     },
     "execution_count": 33,
     "metadata": {},
     "output_type": "execute_result"
    }
   ],
   "source": [
    "df_year_wise_non_fiction.shape"
   ]
  },
  {
   "cell_type": "code",
   "execution_count": 34,
   "metadata": {},
   "outputs": [
    {
     "name": "stdout",
     "output_type": "stream",
     "text": [
      "Average number of reviews on Fiction books is 15683.79\n",
      "Average number of reviews on Non Fiction books is 9065.15\n"
     ]
    }
   ],
   "source": [
    "#number of reviews on each genre\n",
    "print('Average number of reviews on Fiction books is {}'.format(round(df_year_wise_fiction['Reviews'].mean(),2)))\n",
    "print('Average number of reviews on Non Fiction books is {}'.format(round(df_year_wise_non_fiction['Reviews'].mean(),2)))"
   ]
  },
  {
   "cell_type": "markdown",
   "metadata": {},
   "source": [
    "#### Fiction books have more reviews even though there is more sales of Non Fiction books in almost all years this is because a particular fiction book was bought by more people  "
   ]
  },
  {
   "cell_type": "markdown",
   "metadata": {},
   "source": [
    "### Top 10 authors of each genre"
   ]
  },
  {
   "cell_type": "code",
   "execution_count": 47,
   "metadata": {},
   "outputs": [
    {
     "data": {
      "text/plain": [
       "Author\n",
       "Gary Chapman                          11\n",
       "American Psychological Association    10\n",
       "Gallup                                 9\n",
       "Rob Elliott                            8\n",
       "Bill O'Reilly                          7\n",
       "Stephen R. Covey                       7\n",
       "Don Miguel Ruiz                        6\n",
       "Sarah Young                            6\n",
       "The College Board                      6\n",
       "Roger Priddy                           5\n",
       "Name: (Name, Non Fiction), dtype: int64"
      ]
     },
     "execution_count": 47,
     "metadata": {},
     "output_type": "execute_result"
    }
   ],
   "source": [
    "best_nf_authors = df.groupby(['Author', 'Genre']).agg({'Name': 'count'}).unstack()['Name', 'Non Fiction'].sort_values(ascending=False)[:10]\n",
    "best_f_authors = df.groupby(['Author', 'Genre']).agg({'Name': 'count'}).unstack()['Name', 'Fiction'].sort_values(ascending=False)[:10]\n",
    "best_nf_authors"
   ]
  },
  {
   "cell_type": "code",
   "execution_count": 62,
   "metadata": {},
   "outputs": [
    {
     "data": {
      "image/png": "[encoded data removed]",
      "text/plain": [
       "<Figure size 576x576 with 2 Axes>"
      ]
     },
     "metadata": {},
     "output_type": "display_data"
    }
   ],
   "source": [
    "#other styles can be used, for more style go through \"style.available\"\n",
    "with plt.style.context('fivethirtyeight'):\n",
    "    fig, ax = plt.subplots(1, 2, figsize=(8,8))\n",
    "    \n",
    "    ax[0].barh(y=best_nf_authors.index, width=best_nf_authors.values,\n",
    "           color=genre_col[0])\n",
    "    ax[0].invert_xaxis()\n",
    "    #ax[0].yaxis.tick_left()\n",
    "    ax[0].set_xticks(np.arange(max(best_f_authors.values)+1))\n",
    "    ax[0].set_yticklabels(best_nf_authors.index, fontsize=12, fontweight='semibold')\n",
    "    ax[0].set_xlabel('Number of appreances')\n",
    "    ax[0].set_title('Non Fiction Authors')\n",
    "    \n",
    "    ax[1].barh(y=best_f_authors.index, width=best_f_authors.values,\n",
    "           color=genre_col[1])\n",
    "    ax[1].yaxis.tick_right()\n",
    "    ax[1].set_xticks(np.arange(max(best_f_authors.values)+1))\n",
    "    ax[1].set_yticklabels(best_f_authors.index, fontsize=12, fontweight='semibold')\n",
    "    ax[1].set_title('Fiction Authors')\n",
    "    ax[1].set_xlabel('Number of appreances')\n",
    "    \n",
    "    fig.legend(['Non Fiction', 'Fiction'], fontsize=12)\n",
    "    \n",
    "plt.show()"
   ]
  },
  {
   "cell_type": "markdown",
   "metadata": {},
   "source": [
    "## Summarizing the 20 best authors and their appearances. There are multiple apperances also so we will look at both"
   ]
  },
  {
   "cell_type": "code",
   "execution_count": 83,
   "metadata": {},
   "outputs": [
    {
     "data": {
      "image/png": "[encoded data removed]",
      "text/plain": [
       "<Figure size 792x720 with 3 Axes>"
      ]
     },
     "metadata": {},
     "output_type": "display_data"
    }
   ],
   "source": [
    "n_best = 20\n",
    "\n",
    "top_authors = df.Author.value_counts().nlargest(n_best)\n",
    "no_dup = df.drop_duplicates('Name') # removes all rows with duplicate book names\n",
    "\n",
    "fig, ax = plt.subplots(1, 3, figsize=(11,10), sharey=True)\n",
    "\n",
    "\n",
    "color = sns.color_palette(\"hls\", n_best)\n",
    "\n",
    "ax[0].hlines(y=top_authors.index , xmin=0, xmax=top_authors.values, color=color, linestyles='dashed')\n",
    "ax[0].plot(top_authors.values, top_authors.index, 'go', markersize=9)\n",
    "ax[0].set_xlabel('Number of appearences')\n",
    "ax[0].set_xticks(np.arange(top_authors.values.max()+1))\n",
    "ax[0].set_yticklabels(top_authors.index, fontweight='semibold')\n",
    "ax[0].set_title('Appearences')\n",
    "\n",
    "book_count = []\n",
    "total_reviews = []\n",
    "for name, col in zip(top_authors.index, color):\n",
    "    book_count.append(len(no_dup[no_dup.Author == name]['Name']))\n",
    "    total_reviews.append(no_dup[no_dup.Author == name]['Reviews'].sum()/1000)\n",
    "ax[1].hlines(y=top_authors.index , xmin=0, xmax=book_count, color=color, linestyles='dashed')\n",
    "ax[1].plot(book_count, top_authors.index, 'go', markersize=9)\n",
    "ax[1].set_xlabel('Number of unique books')\n",
    "ax[1].set_xticks(np.arange(max(book_count)+1))\n",
    "ax[1].set_title('Unique books')\n",
    "\n",
    "ax[2].barh(y=top_authors.index, width=total_reviews, color=color, edgecolor='black', height=0.7)\n",
    "for name, val in zip(top_authors.index, total_reviews):\n",
    "    ax[2].text(val+1.5,name,val)# val+1.5 for spacing between the horizontal bar ending and\n",
    "ax[2].set_xlabel(\"Total Reviews (in 1000's)\")\n",
    "ax[2].set_title('Total reviews')\n",
    "\n",
    "plt.suptitle('Top 20 best selling Authors (from 2009 to 2019) details', fontsize=15)\n",
    "plt.show()"
   ]
  },
  {
   "cell_type": "code",
   "execution_count": 37,
   "metadata": {},
   "outputs": [
    {
     "data": {
      "text/html": [
       "<div>\n",
       "<style scoped>\n",
       "    .dataframe tbody tr th:only-of-type {\n",
       "        vertical-align: middle;\n",
       "    }\n",
       "\n",
       "    .dataframe tbody tr th {\n",
       "        vertical-align: top;\n",
       "    }\n",
       "\n",
       "    .dataframe thead th {\n",
       "        text-align: right;\n",
       "    }\n",
       "</style>\n",
       "<table border=\"1\" class=\"dataframe\">\n",
       "  <thead>\n",
       "    <tr style=\"text-align: right;\">\n",
       "      <th></th>\n",
       "      <th>Name</th>\n",
       "      <th>Author</th>\n",
       "      <th>User Rating</th>\n",
       "      <th>Reviews</th>\n",
       "      <th>Price</th>\n",
       "      <th>Year</th>\n",
       "      <th>Genre</th>\n",
       "    </tr>\n",
       "  </thead>\n",
       "  <tbody>\n",
       "    <tr>\n",
       "      <th>72</th>\n",
       "      <td>Diary of a Wimpy Kid: The Last Straw (Book 3)</td>\n",
       "      <td>Jeff Kinney</td>\n",
       "      <td>4.8</td>\n",
       "      <td>3837</td>\n",
       "      <td>15</td>\n",
       "      <td>2009</td>\n",
       "      <td>Fiction</td>\n",
       "    </tr>\n",
       "    <tr>\n",
       "      <th>80</th>\n",
       "      <td>Dog Days (Diary of a Wimpy Kid, Book 4) (Volum...</td>\n",
       "      <td>Jeff Kinney</td>\n",
       "      <td>4.8</td>\n",
       "      <td>3181</td>\n",
       "      <td>12</td>\n",
       "      <td>2009</td>\n",
       "      <td>Fiction</td>\n",
       "    </tr>\n",
       "    <tr>\n",
       "      <th>474</th>\n",
       "      <td>The Ugly Truth (Diary of a Wimpy Kid, Book 5)</td>\n",
       "      <td>Jeff Kinney</td>\n",
       "      <td>4.8</td>\n",
       "      <td>3796</td>\n",
       "      <td>12</td>\n",
       "      <td>2010</td>\n",
       "      <td>Fiction</td>\n",
       "    </tr>\n",
       "    <tr>\n",
       "      <th>42</th>\n",
       "      <td>Cabin Fever (Diary of a Wimpy Kid, Book 6)</td>\n",
       "      <td>Jeff Kinney</td>\n",
       "      <td>4.8</td>\n",
       "      <td>4505</td>\n",
       "      <td>9</td>\n",
       "      <td>2011</td>\n",
       "      <td>Fiction</td>\n",
       "    </tr>\n",
       "    <tr>\n",
       "      <th>468</th>\n",
       "      <td>The Third Wheel (Diary of a Wimpy Kid, Book 7)</td>\n",
       "      <td>Jeff Kinney</td>\n",
       "      <td>4.7</td>\n",
       "      <td>6377</td>\n",
       "      <td>7</td>\n",
       "      <td>2012</td>\n",
       "      <td>Fiction</td>\n",
       "    </tr>\n",
       "    <tr>\n",
       "      <th>71</th>\n",
       "      <td>Diary of a Wimpy Kid: Hard Luck, Book 8</td>\n",
       "      <td>Jeff Kinney</td>\n",
       "      <td>4.8</td>\n",
       "      <td>6812</td>\n",
       "      <td>9</td>\n",
       "      <td>2013</td>\n",
       "      <td>Fiction</td>\n",
       "    </tr>\n",
       "    <tr>\n",
       "      <th>73</th>\n",
       "      <td>Diary of a Wimpy Kid: The Long Haul</td>\n",
       "      <td>Jeff Kinney</td>\n",
       "      <td>4.8</td>\n",
       "      <td>6540</td>\n",
       "      <td>22</td>\n",
       "      <td>2014</td>\n",
       "      <td>Fiction</td>\n",
       "    </tr>\n",
       "    <tr>\n",
       "      <th>253</th>\n",
       "      <td>Old School (Diary of a Wimpy Kid #10)</td>\n",
       "      <td>Jeff Kinney</td>\n",
       "      <td>4.8</td>\n",
       "      <td>6169</td>\n",
       "      <td>7</td>\n",
       "      <td>2015</td>\n",
       "      <td>Fiction</td>\n",
       "    </tr>\n",
       "    <tr>\n",
       "      <th>88</th>\n",
       "      <td>Double Down (Diary of a Wimpy Kid #11)</td>\n",
       "      <td>Jeff Kinney</td>\n",
       "      <td>4.8</td>\n",
       "      <td>5118</td>\n",
       "      <td>20</td>\n",
       "      <td>2016</td>\n",
       "      <td>Fiction</td>\n",
       "    </tr>\n",
       "    <tr>\n",
       "      <th>381</th>\n",
       "      <td>The Getaway</td>\n",
       "      <td>Jeff Kinney</td>\n",
       "      <td>4.8</td>\n",
       "      <td>5836</td>\n",
       "      <td>9</td>\n",
       "      <td>2017</td>\n",
       "      <td>Fiction</td>\n",
       "    </tr>\n",
       "    <tr>\n",
       "      <th>435</th>\n",
       "      <td>The Meltdown (Diary of a Wimpy Kid Book 13)</td>\n",
       "      <td>Jeff Kinney</td>\n",
       "      <td>4.8</td>\n",
       "      <td>5898</td>\n",
       "      <td>8</td>\n",
       "      <td>2018</td>\n",
       "      <td>Fiction</td>\n",
       "    </tr>\n",
       "    <tr>\n",
       "      <th>545</th>\n",
       "      <td>Wrecking Ball (Diary of a Wimpy Kid Book 14)</td>\n",
       "      <td>Jeff Kinney</td>\n",
       "      <td>4.9</td>\n",
       "      <td>9413</td>\n",
       "      <td>8</td>\n",
       "      <td>2019</td>\n",
       "      <td>Fiction</td>\n",
       "    </tr>\n",
       "  </tbody>\n",
       "</table>\n",
       "</div>"
      ],
      "text/plain": [
       "                                                  Name       Author  \\\n",
       "72       Diary of a Wimpy Kid: The Last Straw (Book 3)  Jeff Kinney   \n",
       "80   Dog Days (Diary of a Wimpy Kid, Book 4) (Volum...  Jeff Kinney   \n",
       "474      The Ugly Truth (Diary of a Wimpy Kid, Book 5)  Jeff Kinney   \n",
       "42          Cabin Fever (Diary of a Wimpy Kid, Book 6)  Jeff Kinney   \n",
       "468     The Third Wheel (Diary of a Wimpy Kid, Book 7)  Jeff Kinney   \n",
       "71             Diary of a Wimpy Kid: Hard Luck, Book 8  Jeff Kinney   \n",
       "73                 Diary of a Wimpy Kid: The Long Haul  Jeff Kinney   \n",
       "253              Old School (Diary of a Wimpy Kid #10)  Jeff Kinney   \n",
       "88              Double Down (Diary of a Wimpy Kid #11)  Jeff Kinney   \n",
       "381                                        The Getaway  Jeff Kinney   \n",
       "435        The Meltdown (Diary of a Wimpy Kid Book 13)  Jeff Kinney   \n",
       "545       Wrecking Ball (Diary of a Wimpy Kid Book 14)  Jeff Kinney   \n",
       "\n",
       "     User Rating  Reviews  Price  Year    Genre  \n",
       "72           4.8     3837     15  2009  Fiction  \n",
       "80           4.8     3181     12  2009  Fiction  \n",
       "474          4.8     3796     12  2010  Fiction  \n",
       "42           4.8     4505      9  2011  Fiction  \n",
       "468          4.7     6377      7  2012  Fiction  \n",
       "71           4.8     6812      9  2013  Fiction  \n",
       "73           4.8     6540     22  2014  Fiction  \n",
       "253          4.8     6169      7  2015  Fiction  \n",
       "88           4.8     5118     20  2016  Fiction  \n",
       "381          4.8     5836      9  2017  Fiction  \n",
       "435          4.8     5898      8  2018  Fiction  \n",
       "545          4.9     9413      8  2019  Fiction  "
      ]
     },
     "execution_count": 37,
     "metadata": {},
     "output_type": "execute_result"
    }
   ],
   "source": [
    "df[df.loc[:,'Author']=='Jeff Kinney'].sort_values(by='Year')"
   ]
  },
  {
   "cell_type": "markdown",
   "metadata": {},
   "source": [
    "#### Clearly from the data we can see that Diary of a wimpy kid was great hit with almost books as best sellers in all consecutive years"
   ]
  },
  {
   "cell_type": "code",
   "execution_count": 38,
   "metadata": {},
   "outputs": [
    {
     "data": {
      "text/html": [
       "<div>\n",
       "<style scoped>\n",
       "    .dataframe tbody tr th:only-of-type {\n",
       "        vertical-align: middle;\n",
       "    }\n",
       "\n",
       "    .dataframe tbody tr th {\n",
       "        vertical-align: top;\n",
       "    }\n",
       "\n",
       "    .dataframe thead th {\n",
       "        text-align: right;\n",
       "    }\n",
       "</style>\n",
       "<table border=\"1\" class=\"dataframe\">\n",
       "  <thead>\n",
       "    <tr style=\"text-align: right;\">\n",
       "      <th></th>\n",
       "      <th>Name</th>\n",
       "      <th>Author</th>\n",
       "      <th>User Rating</th>\n",
       "      <th>Reviews</th>\n",
       "      <th>Price</th>\n",
       "      <th>Year</th>\n",
       "      <th>Genre</th>\n",
       "    </tr>\n",
       "  </thead>\n",
       "  <tbody>\n",
       "    <tr>\n",
       "      <th>46</th>\n",
       "      <td>Catching Fire (The Hunger Games)</td>\n",
       "      <td>Suzanne Collins</td>\n",
       "      <td>4.7</td>\n",
       "      <td>22614</td>\n",
       "      <td>11</td>\n",
       "      <td>2010</td>\n",
       "      <td>Fiction</td>\n",
       "    </tr>\n",
       "    <tr>\n",
       "      <th>236</th>\n",
       "      <td>Mockingjay (The Hunger Games)</td>\n",
       "      <td>Suzanne Collins</td>\n",
       "      <td>4.5</td>\n",
       "      <td>26741</td>\n",
       "      <td>8</td>\n",
       "      <td>2010</td>\n",
       "      <td>Fiction</td>\n",
       "    </tr>\n",
       "    <tr>\n",
       "      <th>407</th>\n",
       "      <td>The Hunger Games</td>\n",
       "      <td>Suzanne Collins</td>\n",
       "      <td>4.7</td>\n",
       "      <td>32122</td>\n",
       "      <td>14</td>\n",
       "      <td>2010</td>\n",
       "      <td>Fiction</td>\n",
       "    </tr>\n",
       "    <tr>\n",
       "      <th>47</th>\n",
       "      <td>Catching Fire (The Hunger Games)</td>\n",
       "      <td>Suzanne Collins</td>\n",
       "      <td>4.7</td>\n",
       "      <td>22614</td>\n",
       "      <td>11</td>\n",
       "      <td>2011</td>\n",
       "      <td>Fiction</td>\n",
       "    </tr>\n",
       "    <tr>\n",
       "      <th>237</th>\n",
       "      <td>Mockingjay (The Hunger Games)</td>\n",
       "      <td>Suzanne Collins</td>\n",
       "      <td>4.5</td>\n",
       "      <td>26741</td>\n",
       "      <td>8</td>\n",
       "      <td>2011</td>\n",
       "      <td>Fiction</td>\n",
       "    </tr>\n",
       "    <tr>\n",
       "      <th>408</th>\n",
       "      <td>The Hunger Games (Book 1)</td>\n",
       "      <td>Suzanne Collins</td>\n",
       "      <td>4.7</td>\n",
       "      <td>32122</td>\n",
       "      <td>8</td>\n",
       "      <td>2011</td>\n",
       "      <td>Fiction</td>\n",
       "    </tr>\n",
       "    <tr>\n",
       "      <th>410</th>\n",
       "      <td>The Hunger Games Trilogy Boxed Set (1)</td>\n",
       "      <td>Suzanne Collins</td>\n",
       "      <td>4.8</td>\n",
       "      <td>16949</td>\n",
       "      <td>30</td>\n",
       "      <td>2011</td>\n",
       "      <td>Fiction</td>\n",
       "    </tr>\n",
       "    <tr>\n",
       "      <th>48</th>\n",
       "      <td>Catching Fire (The Hunger Games)</td>\n",
       "      <td>Suzanne Collins</td>\n",
       "      <td>4.7</td>\n",
       "      <td>22614</td>\n",
       "      <td>11</td>\n",
       "      <td>2012</td>\n",
       "      <td>Fiction</td>\n",
       "    </tr>\n",
       "    <tr>\n",
       "      <th>238</th>\n",
       "      <td>Mockingjay (The Hunger Games)</td>\n",
       "      <td>Suzanne Collins</td>\n",
       "      <td>4.5</td>\n",
       "      <td>26741</td>\n",
       "      <td>8</td>\n",
       "      <td>2012</td>\n",
       "      <td>Fiction</td>\n",
       "    </tr>\n",
       "    <tr>\n",
       "      <th>409</th>\n",
       "      <td>The Hunger Games (Book 1)</td>\n",
       "      <td>Suzanne Collins</td>\n",
       "      <td>4.7</td>\n",
       "      <td>32122</td>\n",
       "      <td>8</td>\n",
       "      <td>2012</td>\n",
       "      <td>Fiction</td>\n",
       "    </tr>\n",
       "    <tr>\n",
       "      <th>411</th>\n",
       "      <td>The Hunger Games Trilogy Boxed Set (1)</td>\n",
       "      <td>Suzanne Collins</td>\n",
       "      <td>4.8</td>\n",
       "      <td>16949</td>\n",
       "      <td>30</td>\n",
       "      <td>2012</td>\n",
       "      <td>Fiction</td>\n",
       "    </tr>\n",
       "  </tbody>\n",
       "</table>\n",
       "</div>"
      ],
      "text/plain": [
       "                                       Name           Author  User Rating  \\\n",
       "46         Catching Fire (The Hunger Games)  Suzanne Collins          4.7   \n",
       "236           Mockingjay (The Hunger Games)  Suzanne Collins          4.5   \n",
       "407                        The Hunger Games  Suzanne Collins          4.7   \n",
       "47         Catching Fire (The Hunger Games)  Suzanne Collins          4.7   \n",
       "237           Mockingjay (The Hunger Games)  Suzanne Collins          4.5   \n",
       "408               The Hunger Games (Book 1)  Suzanne Collins          4.7   \n",
       "410  The Hunger Games Trilogy Boxed Set (1)  Suzanne Collins          4.8   \n",
       "48         Catching Fire (The Hunger Games)  Suzanne Collins          4.7   \n",
       "238           Mockingjay (The Hunger Games)  Suzanne Collins          4.5   \n",
       "409               The Hunger Games (Book 1)  Suzanne Collins          4.7   \n",
       "411  The Hunger Games Trilogy Boxed Set (1)  Suzanne Collins          4.8   \n",
       "\n",
       "     Reviews  Price  Year    Genre  \n",
       "46     22614     11  2010  Fiction  \n",
       "236    26741      8  2010  Fiction  \n",
       "407    32122     14  2010  Fiction  \n",
       "47     22614     11  2011  Fiction  \n",
       "237    26741      8  2011  Fiction  \n",
       "408    32122      8  2011  Fiction  \n",
       "410    16949     30  2011  Fiction  \n",
       "48     22614     11  2012  Fiction  \n",
       "238    26741      8  2012  Fiction  \n",
       "409    32122      8  2012  Fiction  \n",
       "411    16949     30  2012  Fiction  "
      ]
     },
     "execution_count": 38,
     "metadata": {},
     "output_type": "execute_result"
    }
   ],
   "source": [
    "df[df.loc[:,'Author']=='Suzanne Collins'].sort_values(by='Year')"
   ]
  },
  {
   "cell_type": "markdown",
   "metadata": {},
   "source": [
    "#### The hunger games books were best sellers on Amazon for three consecutive years "
   ]
  },
  {
   "cell_type": "code",
   "execution_count": 39,
   "metadata": {},
   "outputs": [
    {
     "data": {
      "text/html": [
       "<div>\n",
       "<style scoped>\n",
       "    .dataframe tbody tr th:only-of-type {\n",
       "        vertical-align: middle;\n",
       "    }\n",
       "\n",
       "    .dataframe tbody tr th {\n",
       "        vertical-align: top;\n",
       "    }\n",
       "\n",
       "    .dataframe thead th {\n",
       "        text-align: right;\n",
       "    }\n",
       "</style>\n",
       "<table border=\"1\" class=\"dataframe\">\n",
       "  <thead>\n",
       "    <tr style=\"text-align: right;\">\n",
       "      <th></th>\n",
       "      <th>Name</th>\n",
       "      <th>Author</th>\n",
       "      <th>User Rating</th>\n",
       "      <th>Reviews</th>\n",
       "      <th>Price</th>\n",
       "      <th>Year</th>\n",
       "      <th>Genre</th>\n",
       "    </tr>\n",
       "  </thead>\n",
       "  <tbody>\n",
       "    <tr>\n",
       "      <th>418</th>\n",
       "      <td>The Last Olympian (Percy Jackson and the Olymp...</td>\n",
       "      <td>Rick Riordan</td>\n",
       "      <td>4.8</td>\n",
       "      <td>4628</td>\n",
       "      <td>7</td>\n",
       "      <td>2009</td>\n",
       "      <td>Fiction</td>\n",
       "    </tr>\n",
       "    <tr>\n",
       "      <th>264</th>\n",
       "      <td>Percy Jackson and the Olympians Paperback Boxe...</td>\n",
       "      <td>Rick Riordan</td>\n",
       "      <td>4.8</td>\n",
       "      <td>548</td>\n",
       "      <td>2</td>\n",
       "      <td>2010</td>\n",
       "      <td>Fiction</td>\n",
       "    </tr>\n",
       "    <tr>\n",
       "      <th>419</th>\n",
       "      <td>The Last Olympian (Percy Jackson and the Olymp...</td>\n",
       "      <td>Rick Riordan</td>\n",
       "      <td>4.8</td>\n",
       "      <td>4628</td>\n",
       "      <td>7</td>\n",
       "      <td>2010</td>\n",
       "      <td>Fiction</td>\n",
       "    </tr>\n",
       "    <tr>\n",
       "      <th>428</th>\n",
       "      <td>The Lost Hero (Heroes of Olympus, Book 1)</td>\n",
       "      <td>Rick Riordan</td>\n",
       "      <td>4.8</td>\n",
       "      <td>4506</td>\n",
       "      <td>14</td>\n",
       "      <td>2010</td>\n",
       "      <td>Fiction</td>\n",
       "    </tr>\n",
       "    <tr>\n",
       "      <th>456</th>\n",
       "      <td>The Red Pyramid (The Kane Chronicles, Book 1)</td>\n",
       "      <td>Rick Riordan</td>\n",
       "      <td>4.6</td>\n",
       "      <td>2186</td>\n",
       "      <td>12</td>\n",
       "      <td>2010</td>\n",
       "      <td>Fiction</td>\n",
       "    </tr>\n",
       "    <tr>\n",
       "      <th>463</th>\n",
       "      <td>The Son of Neptune (Heroes of Olympus, Book 2)</td>\n",
       "      <td>Rick Riordan</td>\n",
       "      <td>4.8</td>\n",
       "      <td>4290</td>\n",
       "      <td>10</td>\n",
       "      <td>2011</td>\n",
       "      <td>Fiction</td>\n",
       "    </tr>\n",
       "    <tr>\n",
       "      <th>469</th>\n",
       "      <td>The Throne of Fire (The Kane Chronicles, Book 2)</td>\n",
       "      <td>Rick Riordan</td>\n",
       "      <td>4.7</td>\n",
       "      <td>1463</td>\n",
       "      <td>10</td>\n",
       "      <td>2011</td>\n",
       "      <td>Fiction</td>\n",
       "    </tr>\n",
       "    <tr>\n",
       "      <th>432</th>\n",
       "      <td>The Mark of Athena (Heroes of Olympus, Book 3)</td>\n",
       "      <td>Rick Riordan</td>\n",
       "      <td>4.8</td>\n",
       "      <td>6247</td>\n",
       "      <td>10</td>\n",
       "      <td>2012</td>\n",
       "      <td>Fiction</td>\n",
       "    </tr>\n",
       "    <tr>\n",
       "      <th>458</th>\n",
       "      <td>The Serpent's Shadow (The Kane Chronicles, Boo...</td>\n",
       "      <td>Rick Riordan</td>\n",
       "      <td>4.8</td>\n",
       "      <td>2091</td>\n",
       "      <td>12</td>\n",
       "      <td>2012</td>\n",
       "      <td>Fiction</td>\n",
       "    </tr>\n",
       "    <tr>\n",
       "      <th>406</th>\n",
       "      <td>The House of Hades (Heroes of Olympus, Book 4)</td>\n",
       "      <td>Rick Riordan</td>\n",
       "      <td>4.8</td>\n",
       "      <td>6982</td>\n",
       "      <td>14</td>\n",
       "      <td>2013</td>\n",
       "      <td>Fiction</td>\n",
       "    </tr>\n",
       "    <tr>\n",
       "      <th>343</th>\n",
       "      <td>The Blood of Olympus (The Heroes of Olympus (5))</td>\n",
       "      <td>Rick Riordan</td>\n",
       "      <td>4.8</td>\n",
       "      <td>6600</td>\n",
       "      <td>11</td>\n",
       "      <td>2014</td>\n",
       "      <td>Fiction</td>\n",
       "    </tr>\n",
       "  </tbody>\n",
       "</table>\n",
       "</div>"
      ],
      "text/plain": [
       "                                                  Name        Author  \\\n",
       "418  The Last Olympian (Percy Jackson and the Olymp...  Rick Riordan   \n",
       "264  Percy Jackson and the Olympians Paperback Boxe...  Rick Riordan   \n",
       "419  The Last Olympian (Percy Jackson and the Olymp...  Rick Riordan   \n",
       "428          The Lost Hero (Heroes of Olympus, Book 1)  Rick Riordan   \n",
       "456      The Red Pyramid (The Kane Chronicles, Book 1)  Rick Riordan   \n",
       "463     The Son of Neptune (Heroes of Olympus, Book 2)  Rick Riordan   \n",
       "469   The Throne of Fire (The Kane Chronicles, Book 2)  Rick Riordan   \n",
       "432     The Mark of Athena (Heroes of Olympus, Book 3)  Rick Riordan   \n",
       "458  The Serpent's Shadow (The Kane Chronicles, Boo...  Rick Riordan   \n",
       "406     The House of Hades (Heroes of Olympus, Book 4)  Rick Riordan   \n",
       "343   The Blood of Olympus (The Heroes of Olympus (5))  Rick Riordan   \n",
       "\n",
       "     User Rating  Reviews  Price  Year    Genre  \n",
       "418          4.8     4628      7  2009  Fiction  \n",
       "264          4.8      548      2  2010  Fiction  \n",
       "419          4.8     4628      7  2010  Fiction  \n",
       "428          4.8     4506     14  2010  Fiction  \n",
       "456          4.6     2186     12  2010  Fiction  \n",
       "463          4.8     4290     10  2011  Fiction  \n",
       "469          4.7     1463     10  2011  Fiction  \n",
       "432          4.8     6247     10  2012  Fiction  \n",
       "458          4.8     2091     12  2012  Fiction  \n",
       "406          4.8     6982     14  2013  Fiction  \n",
       "343          4.8     6600     11  2014  Fiction  "
      ]
     },
     "execution_count": 39,
     "metadata": {},
     "output_type": "execute_result"
    }
   ],
   "source": [
    "df[df.loc[:,'Author']=='Rick Riordan'].sort_values(by='Year')"
   ]
  },
  {
   "cell_type": "code",
   "execution_count": 40,
   "metadata": {},
   "outputs": [
    {
     "data": {
      "text/html": [
       "<div>\n",
       "<style scoped>\n",
       "    .dataframe tbody tr th:only-of-type {\n",
       "        vertical-align: middle;\n",
       "    }\n",
       "\n",
       "    .dataframe tbody tr th {\n",
       "        vertical-align: top;\n",
       "    }\n",
       "\n",
       "    .dataframe thead th {\n",
       "        text-align: right;\n",
       "    }\n",
       "</style>\n",
       "<table border=\"1\" class=\"dataframe\">\n",
       "  <thead>\n",
       "    <tr style=\"text-align: right;\">\n",
       "      <th></th>\n",
       "      <th>Name</th>\n",
       "      <th>Author</th>\n",
       "      <th>User Rating</th>\n",
       "      <th>Reviews</th>\n",
       "      <th>Price</th>\n",
       "      <th>Year</th>\n",
       "      <th>Genre</th>\n",
       "    </tr>\n",
       "  </thead>\n",
       "  <tbody>\n",
       "    <tr>\n",
       "      <th>374</th>\n",
       "      <td>The Five Love Languages: How to Express Heartf...</td>\n",
       "      <td>Gary Chapman</td>\n",
       "      <td>4.6</td>\n",
       "      <td>803</td>\n",
       "      <td>9</td>\n",
       "      <td>2009</td>\n",
       "      <td>Non Fiction</td>\n",
       "    </tr>\n",
       "    <tr>\n",
       "      <th>320</th>\n",
       "      <td>The 5 Love Languages: The Secret to Love That ...</td>\n",
       "      <td>Gary Chapman</td>\n",
       "      <td>4.7</td>\n",
       "      <td>3477</td>\n",
       "      <td>28</td>\n",
       "      <td>2010</td>\n",
       "      <td>Non Fiction</td>\n",
       "    </tr>\n",
       "    <tr>\n",
       "      <th>321</th>\n",
       "      <td>The 5 Love Languages: The Secret to Love That ...</td>\n",
       "      <td>Gary Chapman</td>\n",
       "      <td>4.7</td>\n",
       "      <td>3477</td>\n",
       "      <td>28</td>\n",
       "      <td>2011</td>\n",
       "      <td>Non Fiction</td>\n",
       "    </tr>\n",
       "    <tr>\n",
       "      <th>322</th>\n",
       "      <td>The 5 Love Languages: The Secret to Love That ...</td>\n",
       "      <td>Gary Chapman</td>\n",
       "      <td>4.7</td>\n",
       "      <td>3477</td>\n",
       "      <td>28</td>\n",
       "      <td>2012</td>\n",
       "      <td>Non Fiction</td>\n",
       "    </tr>\n",
       "    <tr>\n",
       "      <th>323</th>\n",
       "      <td>The 5 Love Languages: The Secret to Love That ...</td>\n",
       "      <td>Gary Chapman</td>\n",
       "      <td>4.7</td>\n",
       "      <td>3477</td>\n",
       "      <td>28</td>\n",
       "      <td>2013</td>\n",
       "      <td>Non Fiction</td>\n",
       "    </tr>\n",
       "    <tr>\n",
       "      <th>324</th>\n",
       "      <td>The 5 Love Languages: The Secret to Love That ...</td>\n",
       "      <td>Gary Chapman</td>\n",
       "      <td>4.7</td>\n",
       "      <td>3477</td>\n",
       "      <td>28</td>\n",
       "      <td>2014</td>\n",
       "      <td>Non Fiction</td>\n",
       "    </tr>\n",
       "    <tr>\n",
       "      <th>325</th>\n",
       "      <td>The 5 Love Languages: The Secret to Love that ...</td>\n",
       "      <td>Gary Chapman</td>\n",
       "      <td>4.8</td>\n",
       "      <td>25554</td>\n",
       "      <td>8</td>\n",
       "      <td>2015</td>\n",
       "      <td>Non Fiction</td>\n",
       "    </tr>\n",
       "    <tr>\n",
       "      <th>326</th>\n",
       "      <td>The 5 Love Languages: The Secret to Love that ...</td>\n",
       "      <td>Gary Chapman</td>\n",
       "      <td>4.8</td>\n",
       "      <td>25554</td>\n",
       "      <td>8</td>\n",
       "      <td>2016</td>\n",
       "      <td>Non Fiction</td>\n",
       "    </tr>\n",
       "    <tr>\n",
       "      <th>327</th>\n",
       "      <td>The 5 Love Languages: The Secret to Love that ...</td>\n",
       "      <td>Gary Chapman</td>\n",
       "      <td>4.8</td>\n",
       "      <td>25554</td>\n",
       "      <td>8</td>\n",
       "      <td>2017</td>\n",
       "      <td>Non Fiction</td>\n",
       "    </tr>\n",
       "    <tr>\n",
       "      <th>328</th>\n",
       "      <td>The 5 Love Languages: The Secret to Love that ...</td>\n",
       "      <td>Gary Chapman</td>\n",
       "      <td>4.8</td>\n",
       "      <td>25554</td>\n",
       "      <td>8</td>\n",
       "      <td>2018</td>\n",
       "      <td>Non Fiction</td>\n",
       "    </tr>\n",
       "    <tr>\n",
       "      <th>329</th>\n",
       "      <td>The 5 Love Languages: The Secret to Love that ...</td>\n",
       "      <td>Gary Chapman</td>\n",
       "      <td>4.8</td>\n",
       "      <td>25554</td>\n",
       "      <td>8</td>\n",
       "      <td>2019</td>\n",
       "      <td>Non Fiction</td>\n",
       "    </tr>\n",
       "  </tbody>\n",
       "</table>\n",
       "</div>"
      ],
      "text/plain": [
       "                                                  Name        Author  \\\n",
       "374  The Five Love Languages: How to Express Heartf...  Gary Chapman   \n",
       "320  The 5 Love Languages: The Secret to Love That ...  Gary Chapman   \n",
       "321  The 5 Love Languages: The Secret to Love That ...  Gary Chapman   \n",
       "322  The 5 Love Languages: The Secret to Love That ...  Gary Chapman   \n",
       "323  The 5 Love Languages: The Secret to Love That ...  Gary Chapman   \n",
       "324  The 5 Love Languages: The Secret to Love That ...  Gary Chapman   \n",
       "325  The 5 Love Languages: The Secret to Love that ...  Gary Chapman   \n",
       "326  The 5 Love Languages: The Secret to Love that ...  Gary Chapman   \n",
       "327  The 5 Love Languages: The Secret to Love that ...  Gary Chapman   \n",
       "328  The 5 Love Languages: The Secret to Love that ...  Gary Chapman   \n",
       "329  The 5 Love Languages: The Secret to Love that ...  Gary Chapman   \n",
       "\n",
       "     User Rating  Reviews  Price  Year        Genre  \n",
       "374          4.6      803      9  2009  Non Fiction  \n",
       "320          4.7     3477     28  2010  Non Fiction  \n",
       "321          4.7     3477     28  2011  Non Fiction  \n",
       "322          4.7     3477     28  2012  Non Fiction  \n",
       "323          4.7     3477     28  2013  Non Fiction  \n",
       "324          4.7     3477     28  2014  Non Fiction  \n",
       "325          4.8    25554      8  2015  Non Fiction  \n",
       "326          4.8    25554      8  2016  Non Fiction  \n",
       "327          4.8    25554      8  2017  Non Fiction  \n",
       "328          4.8    25554      8  2018  Non Fiction  \n",
       "329          4.8    25554      8  2019  Non Fiction  "
      ]
     },
     "execution_count": 40,
     "metadata": {},
     "output_type": "execute_result"
    }
   ],
   "source": [
    "df[df.loc[:,'Author']=='Gary Chapman'].sort_values(by='Year')"
   ]
  },
  {
   "cell_type": "markdown",
   "metadata": {},
   "source": [
    "#### The first non fiction book in top 5 best sellers with the same book sold in each year "
   ]
  },
  {
   "cell_type": "code",
   "execution_count": 41,
   "metadata": {},
   "outputs": [
    {
     "data": {
      "text/html": [
       "<div>\n",
       "<style scoped>\n",
       "    .dataframe tbody tr th:only-of-type {\n",
       "        vertical-align: middle;\n",
       "    }\n",
       "\n",
       "    .dataframe tbody tr th {\n",
       "        vertical-align: top;\n",
       "    }\n",
       "\n",
       "    .dataframe thead th {\n",
       "        text-align: right;\n",
       "    }\n",
       "</style>\n",
       "<table border=\"1\" class=\"dataframe\">\n",
       "  <thead>\n",
       "    <tr style=\"text-align: right;\">\n",
       "      <th></th>\n",
       "      <th>Name</th>\n",
       "      <th>Author</th>\n",
       "      <th>User Rating</th>\n",
       "      <th>Reviews</th>\n",
       "      <th>Price</th>\n",
       "      <th>Year</th>\n",
       "      <th>Genre</th>\n",
       "    </tr>\n",
       "  </thead>\n",
       "  <tbody>\n",
       "    <tr>\n",
       "      <th>271</th>\n",
       "      <td>Publication Manual of the American Psychologic...</td>\n",
       "      <td>American Psychological Association</td>\n",
       "      <td>4.5</td>\n",
       "      <td>8580</td>\n",
       "      <td>46</td>\n",
       "      <td>2009</td>\n",
       "      <td>Non Fiction</td>\n",
       "    </tr>\n",
       "    <tr>\n",
       "      <th>272</th>\n",
       "      <td>Publication Manual of the American Psychologic...</td>\n",
       "      <td>American Psychological Association</td>\n",
       "      <td>4.5</td>\n",
       "      <td>8580</td>\n",
       "      <td>46</td>\n",
       "      <td>2010</td>\n",
       "      <td>Non Fiction</td>\n",
       "    </tr>\n",
       "    <tr>\n",
       "      <th>273</th>\n",
       "      <td>Publication Manual of the American Psychologic...</td>\n",
       "      <td>American Psychological Association</td>\n",
       "      <td>4.5</td>\n",
       "      <td>8580</td>\n",
       "      <td>46</td>\n",
       "      <td>2011</td>\n",
       "      <td>Non Fiction</td>\n",
       "    </tr>\n",
       "    <tr>\n",
       "      <th>274</th>\n",
       "      <td>Publication Manual of the American Psychologic...</td>\n",
       "      <td>American Psychological Association</td>\n",
       "      <td>4.5</td>\n",
       "      <td>8580</td>\n",
       "      <td>46</td>\n",
       "      <td>2012</td>\n",
       "      <td>Non Fiction</td>\n",
       "    </tr>\n",
       "    <tr>\n",
       "      <th>275</th>\n",
       "      <td>Publication Manual of the American Psychologic...</td>\n",
       "      <td>American Psychological Association</td>\n",
       "      <td>4.5</td>\n",
       "      <td>8580</td>\n",
       "      <td>46</td>\n",
       "      <td>2013</td>\n",
       "      <td>Non Fiction</td>\n",
       "    </tr>\n",
       "    <tr>\n",
       "      <th>276</th>\n",
       "      <td>Publication Manual of the American Psychologic...</td>\n",
       "      <td>American Psychological Association</td>\n",
       "      <td>4.5</td>\n",
       "      <td>8580</td>\n",
       "      <td>46</td>\n",
       "      <td>2014</td>\n",
       "      <td>Non Fiction</td>\n",
       "    </tr>\n",
       "    <tr>\n",
       "      <th>277</th>\n",
       "      <td>Publication Manual of the American Psychologic...</td>\n",
       "      <td>American Psychological Association</td>\n",
       "      <td>4.5</td>\n",
       "      <td>8580</td>\n",
       "      <td>46</td>\n",
       "      <td>2015</td>\n",
       "      <td>Non Fiction</td>\n",
       "    </tr>\n",
       "    <tr>\n",
       "      <th>278</th>\n",
       "      <td>Publication Manual of the American Psychologic...</td>\n",
       "      <td>American Psychological Association</td>\n",
       "      <td>4.5</td>\n",
       "      <td>8580</td>\n",
       "      <td>46</td>\n",
       "      <td>2016</td>\n",
       "      <td>Non Fiction</td>\n",
       "    </tr>\n",
       "    <tr>\n",
       "      <th>279</th>\n",
       "      <td>Publication Manual of the American Psychologic...</td>\n",
       "      <td>American Psychological Association</td>\n",
       "      <td>4.5</td>\n",
       "      <td>8580</td>\n",
       "      <td>46</td>\n",
       "      <td>2017</td>\n",
       "      <td>Non Fiction</td>\n",
       "    </tr>\n",
       "    <tr>\n",
       "      <th>280</th>\n",
       "      <td>Publication Manual of the American Psychologic...</td>\n",
       "      <td>American Psychological Association</td>\n",
       "      <td>4.5</td>\n",
       "      <td>8580</td>\n",
       "      <td>46</td>\n",
       "      <td>2018</td>\n",
       "      <td>Non Fiction</td>\n",
       "    </tr>\n",
       "  </tbody>\n",
       "</table>\n",
       "</div>"
      ],
      "text/plain": [
       "                                                  Name  \\\n",
       "271  Publication Manual of the American Psychologic...   \n",
       "272  Publication Manual of the American Psychologic...   \n",
       "273  Publication Manual of the American Psychologic...   \n",
       "274  Publication Manual of the American Psychologic...   \n",
       "275  Publication Manual of the American Psychologic...   \n",
       "276  Publication Manual of the American Psychologic...   \n",
       "277  Publication Manual of the American Psychologic...   \n",
       "278  Publication Manual of the American Psychologic...   \n",
       "279  Publication Manual of the American Psychologic...   \n",
       "280  Publication Manual of the American Psychologic...   \n",
       "\n",
       "                                 Author  User Rating  Reviews  Price  Year  \\\n",
       "271  American Psychological Association          4.5     8580     46  2009   \n",
       "272  American Psychological Association          4.5     8580     46  2010   \n",
       "273  American Psychological Association          4.5     8580     46  2011   \n",
       "274  American Psychological Association          4.5     8580     46  2012   \n",
       "275  American Psychological Association          4.5     8580     46  2013   \n",
       "276  American Psychological Association          4.5     8580     46  2014   \n",
       "277  American Psychological Association          4.5     8580     46  2015   \n",
       "278  American Psychological Association          4.5     8580     46  2016   \n",
       "279  American Psychological Association          4.5     8580     46  2017   \n",
       "280  American Psychological Association          4.5     8580     46  2018   \n",
       "\n",
       "           Genre  \n",
       "271  Non Fiction  \n",
       "272  Non Fiction  \n",
       "273  Non Fiction  \n",
       "274  Non Fiction  \n",
       "275  Non Fiction  \n",
       "276  Non Fiction  \n",
       "277  Non Fiction  \n",
       "278  Non Fiction  \n",
       "279  Non Fiction  \n",
       "280  Non Fiction  "
      ]
     },
     "execution_count": 41,
     "metadata": {},
     "output_type": "execute_result"
    }
   ],
   "source": [
    "df[df.loc[:,'Author']=='American Psychological Association'].sort_values(by='Year')"
   ]
  },
  {
   "cell_type": "markdown",
   "metadata": {},
   "source": [
    "### Did prices stop the books from being a bestseller?"
   ]
  },
  {
   "cell_type": "code",
   "execution_count": 42,
   "metadata": {},
   "outputs": [
    {
     "data": {
      "text/plain": [
       "(550,)"
      ]
     },
     "execution_count": 42,
     "metadata": {},
     "output_type": "execute_result"
    }
   ],
   "source": [
    "#mean price of is 13.32 so counting if more bestsellers of less prices were brought\n",
    "(df['Price']>14).shape"
   ]
  },
  {
   "cell_type": "code",
   "execution_count": 43,
   "metadata": {},
   "outputs": [
    {
     "data": {
      "text/plain": [
       "(550,)"
      ]
     },
     "execution_count": 43,
     "metadata": {},
     "output_type": "execute_result"
    }
   ],
   "source": [
    "(df[\"Price\"]<14).shape"
   ]
  },
  {
   "cell_type": "code",
   "execution_count": 44,
   "metadata": {},
   "outputs": [
    {
     "data": {
      "text/html": [
       "<div>\n",
       "<style scoped>\n",
       "    .dataframe tbody tr th:only-of-type {\n",
       "        vertical-align: middle;\n",
       "    }\n",
       "\n",
       "    .dataframe tbody tr th {\n",
       "        vertical-align: top;\n",
       "    }\n",
       "\n",
       "    .dataframe thead th {\n",
       "        text-align: right;\n",
       "    }\n",
       "</style>\n",
       "<table border=\"1\" class=\"dataframe\">\n",
       "  <thead>\n",
       "    <tr style=\"text-align: right;\">\n",
       "      <th></th>\n",
       "      <th>Name</th>\n",
       "      <th>Author</th>\n",
       "      <th>User Rating</th>\n",
       "      <th>Reviews</th>\n",
       "      <th>Price</th>\n",
       "      <th>Year</th>\n",
       "      <th>Genre</th>\n",
       "    </tr>\n",
       "  </thead>\n",
       "  <tbody>\n",
       "    <tr>\n",
       "      <th>69</th>\n",
       "      <td>Diagnostic and Statistical Manual of Mental Di...</td>\n",
       "      <td>American Psychiatric Association</td>\n",
       "      <td>4.5</td>\n",
       "      <td>6679</td>\n",
       "      <td>105</td>\n",
       "      <td>2013</td>\n",
       "      <td>Non Fiction</td>\n",
       "    </tr>\n",
       "    <tr>\n",
       "      <th>70</th>\n",
       "      <td>Diagnostic and Statistical Manual of Mental Di...</td>\n",
       "      <td>American Psychiatric Association</td>\n",
       "      <td>4.5</td>\n",
       "      <td>6679</td>\n",
       "      <td>105</td>\n",
       "      <td>2014</td>\n",
       "      <td>Non Fiction</td>\n",
       "    </tr>\n",
       "    <tr>\n",
       "      <th>473</th>\n",
       "      <td>The Twilight Saga Collection</td>\n",
       "      <td>Stephenie Meyer</td>\n",
       "      <td>4.7</td>\n",
       "      <td>3801</td>\n",
       "      <td>82</td>\n",
       "      <td>2009</td>\n",
       "      <td>Fiction</td>\n",
       "    </tr>\n",
       "    <tr>\n",
       "      <th>151</th>\n",
       "      <td>Hamilton: The Revolution</td>\n",
       "      <td>Lin-Manuel Miranda</td>\n",
       "      <td>4.9</td>\n",
       "      <td>5867</td>\n",
       "      <td>54</td>\n",
       "      <td>2016</td>\n",
       "      <td>Non Fiction</td>\n",
       "    </tr>\n",
       "    <tr>\n",
       "      <th>346</th>\n",
       "      <td>The Book of Basketball: The NBA According to T...</td>\n",
       "      <td>Bill Simmons</td>\n",
       "      <td>4.7</td>\n",
       "      <td>858</td>\n",
       "      <td>53</td>\n",
       "      <td>2009</td>\n",
       "      <td>Non Fiction</td>\n",
       "    </tr>\n",
       "    <tr>\n",
       "      <th>...</th>\n",
       "      <td>...</td>\n",
       "      <td>...</td>\n",
       "      <td>...</td>\n",
       "      <td>...</td>\n",
       "      <td>...</td>\n",
       "      <td>...</td>\n",
       "      <td>...</td>\n",
       "    </tr>\n",
       "    <tr>\n",
       "      <th>264</th>\n",
       "      <td>Percy Jackson and the Olympians Paperback Boxe...</td>\n",
       "      <td>Rick Riordan</td>\n",
       "      <td>4.8</td>\n",
       "      <td>548</td>\n",
       "      <td>2</td>\n",
       "      <td>2010</td>\n",
       "      <td>Fiction</td>\n",
       "    </tr>\n",
       "    <tr>\n",
       "      <th>11</th>\n",
       "      <td>A Patriot's History of the United States: From...</td>\n",
       "      <td>Larry Schweikart</td>\n",
       "      <td>4.6</td>\n",
       "      <td>460</td>\n",
       "      <td>2</td>\n",
       "      <td>2010</td>\n",
       "      <td>Non Fiction</td>\n",
       "    </tr>\n",
       "    <tr>\n",
       "      <th>389</th>\n",
       "      <td>The Girl with the Dragon Tattoo (Millennium Se...</td>\n",
       "      <td>Stieg Larsson</td>\n",
       "      <td>4.4</td>\n",
       "      <td>10559</td>\n",
       "      <td>2</td>\n",
       "      <td>2010</td>\n",
       "      <td>Fiction</td>\n",
       "    </tr>\n",
       "    <tr>\n",
       "      <th>388</th>\n",
       "      <td>The Girl with the Dragon Tattoo (Millennium Se...</td>\n",
       "      <td>Stieg Larsson</td>\n",
       "      <td>4.4</td>\n",
       "      <td>10559</td>\n",
       "      <td>2</td>\n",
       "      <td>2009</td>\n",
       "      <td>Fiction</td>\n",
       "    </tr>\n",
       "    <tr>\n",
       "      <th>91</th>\n",
       "      <td>Eat This Not That! Supermarket Survival Guide:...</td>\n",
       "      <td>David Zinczenko</td>\n",
       "      <td>4.5</td>\n",
       "      <td>720</td>\n",
       "      <td>1</td>\n",
       "      <td>2009</td>\n",
       "      <td>Non Fiction</td>\n",
       "    </tr>\n",
       "  </tbody>\n",
       "</table>\n",
       "<p>550 rows × 7 columns</p>\n",
       "</div>"
      ],
      "text/plain": [
       "                                                  Name  \\\n",
       "69   Diagnostic and Statistical Manual of Mental Di...   \n",
       "70   Diagnostic and Statistical Manual of Mental Di...   \n",
       "473                       The Twilight Saga Collection   \n",
       "151                           Hamilton: The Revolution   \n",
       "346  The Book of Basketball: The NBA According to T...   \n",
       "..                                                 ...   \n",
       "264  Percy Jackson and the Olympians Paperback Boxe...   \n",
       "11   A Patriot's History of the United States: From...   \n",
       "389  The Girl with the Dragon Tattoo (Millennium Se...   \n",
       "388  The Girl with the Dragon Tattoo (Millennium Se...   \n",
       "91   Eat This Not That! Supermarket Survival Guide:...   \n",
       "\n",
       "                               Author  User Rating  Reviews  Price  Year  \\\n",
       "69   American Psychiatric Association          4.5     6679    105  2013   \n",
       "70   American Psychiatric Association          4.5     6679    105  2014   \n",
       "473                   Stephenie Meyer          4.7     3801     82  2009   \n",
       "151                Lin-Manuel Miranda          4.9     5867     54  2016   \n",
       "346                      Bill Simmons          4.7      858     53  2009   \n",
       "..                                ...          ...      ...    ...   ...   \n",
       "264                      Rick Riordan          4.8      548      2  2010   \n",
       "11                   Larry Schweikart          4.6      460      2  2010   \n",
       "389                     Stieg Larsson          4.4    10559      2  2010   \n",
       "388                     Stieg Larsson          4.4    10559      2  2009   \n",
       "91                    David Zinczenko          4.5      720      1  2009   \n",
       "\n",
       "           Genre  \n",
       "69   Non Fiction  \n",
       "70   Non Fiction  \n",
       "473      Fiction  \n",
       "151  Non Fiction  \n",
       "346  Non Fiction  \n",
       "..           ...  \n",
       "264      Fiction  \n",
       "11   Non Fiction  \n",
       "389      Fiction  \n",
       "388      Fiction  \n",
       "91   Non Fiction  \n",
       "\n",
       "[550 rows x 7 columns]"
      ]
     },
     "execution_count": 44,
     "metadata": {},
     "output_type": "execute_result"
    }
   ],
   "source": [
    "df.sort_values(by='Price',ascending=False)"
   ]
  },
  {
   "cell_type": "markdown",
   "metadata": {},
   "source": [
    "#### Price of the book isnt stopping it from making it a best seller"
   ]
  },
  {
   "cell_type": "markdown",
   "metadata": {},
   "source": [
    "## Does the books which have less price have more reviews? "
   ]
  },
  {
   "cell_type": "code",
   "execution_count": 45,
   "metadata": {},
   "outputs": [
    {
     "data": {
      "text/plain": [
       "1567333"
      ]
     },
     "execution_count": 45,
     "metadata": {},
     "output_type": "execute_result"
    }
   ],
   "source": [
    "df[df['Price']>14]['Reviews'].sum()"
   ]
  },
  {
   "cell_type": "code",
   "execution_count": 46,
   "metadata": {},
   "outputs": [
    {
     "data": {
      "text/plain": [
       "4603103"
      ]
     },
     "execution_count": 46,
     "metadata": {},
     "output_type": "execute_result"
    }
   ],
   "source": [
    "df[df['Price']<14]['Reviews'].sum()"
   ]
  },
  {
   "cell_type": "markdown",
   "metadata": {},
   "source": [
    "#### Less price books have more reviews which means that the sale of those books was more as compared to books having high prices"
   ]
  },
  {
   "cell_type": "code",
   "execution_count": null,
   "metadata": {},
   "outputs": [],
   "source": []
  }
 ],
 "metadata": {
  "kernelspec": {
   "display_name": "Python 3",
   "language": "python",
   "name": "python3"
  },
  "language_info": {
   "codemirror_mode": {
    "name": "ipython",
    "version": 3
   },
   "file_extension": ".py",
   "mimetype": "text/x-python",
   "name": "python",
   "nbconvert_exporter": "python",
   "pygments_lexer": "ipython3",
   "version": "3.8.3"
  }
 },
 "nbformat": 4,
 "nbformat_minor": 4
}
